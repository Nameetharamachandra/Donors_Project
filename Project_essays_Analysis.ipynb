{
 "cells": [
  {
   "cell_type": "code",
   "execution_count": null,
   "metadata": {},
   "outputs": [],
   "source": [
    "#Code to write projects and essay into CSV"
   ]
  },
  {
   "cell_type": "code",
   "execution_count": 1,
   "metadata": {},
   "outputs": [],
   "source": [
    "import pandas  as pd\n",
    "Projects = pd.read_csv(\"opendata_projects000.gz\",   escapechar='\\\\', names=['_projectid', '_teacher_acctid', '_schoolid', 'school_ncesid', 'school_latitude', 'school_longitude', 'school_city', 'school_state', 'school_zip', 'school_metro', 'school_district', 'school_county', 'school_charter', 'school_magnet', 'school_year_round', 'school_nlns', 'school_kipp', 'school_charter_ready_promise', 'teacher_prefix', 'teacher_teach_for_america', 'teacher_ny_teaching_fellow', 'primary_focus_subject', 'primary_focus_area' ,'secondary_focus_subject', 'secondary_focus_area', 'resource_type', 'poverty_level', 'grade_level', 'vendor_shipping_charges', 'sales_tax', 'payment_processing_charges', 'fulfillment_labor_materials', 'total_price_excluding_optional_support', 'total_price_including_optional_support', 'students_reached', 'total_donations', 'num_donors', 'eligible_double_your_impact_match', 'eligible_almost_home_match', 'funding_status', 'date_posted', 'date_completed', 'date_thank_you_packet_mailed', 'date_expiration'])\n",
    "Projects.to_csv(\"Projects.csv\")\n",
    "\n"
   ]
  },
  {
   "cell_type": "code",
   "execution_count": 2,
   "metadata": {},
   "outputs": [],
   "source": [
    "essays = pd.read_csv('opendata_essays.gz', escapechar='\\\\', names=['_projectid', '_teacherid', 'title', 'short_description', 'need_statement', 'essay', 'thankyou_note', 'impact_letter'])\n",
    "essays.to_csv(\"essays.csv\")"
   ]
  },
  {
   "cell_type": "code",
   "execution_count": 3,
   "metadata": {},
   "outputs": [],
   "source": [
    "\n",
    "from datetime import datetime\n",
    "def Filter_records_between_dates(date1,date2):\n",
    "    Projects['date_posted']=pd.to_datetime(Projects['date_posted'], format='%Y-%m-%d')\n",
    "    date1 = datetime.strptime(date1, '%Y-%m-%d')\n",
    "    date2 = datetime.strptime(date2, '%Y-%m-%d')\n",
    "    Projects_filtered=Projects.loc[(Projects['date_posted']>=date1) & (Projects['date_posted']<date2)]\n",
    "    return Projects_filtered"
   ]
  },
  {
   "cell_type": "code",
   "execution_count": 4,
   "metadata": {},
   "outputs": [],
   "source": [
    "Projects_filtered_before_change=Filter_records_between_dates('2010-01-01','2010-01-30')\n",
    "projects_filtered_after_change=Filter_records_between_dates('2010-03-01','2010-03-30')"
   ]
  },
  {
   "cell_type": "code",
   "execution_count": 5,
   "metadata": {},
   "outputs": [],
   "source": [
    "Projects['date_posted']=pd.to_datetime(Projects['date_posted'], format='%Y-%m-%d')\n",
    "date1 = datetime.strptime('2010-02-01', '%Y-%m-%d')\n",
    "date2 = datetime.strptime('2010-02-18', '%Y-%m-%d')\n",
    "Projects=Projects.loc[(Projects['date_posted']>='2010-02-01') & (Projects['date_posted']<'2010-02-18')]"
   ]
  },
  {
   "cell_type": "code",
   "execution_count": 6,
   "metadata": {},
   "outputs": [
    {
     "data": {
      "text/plain": [
       "(5230, 44)"
      ]
     },
     "execution_count": 6,
     "metadata": {},
     "output_type": "execute_result"
    }
   ],
   "source": [
    "Projects_filtered_before_change.shape"
   ]
  },
  {
   "cell_type": "code",
   "execution_count": 7,
   "metadata": {},
   "outputs": [
    {
     "data": {
      "text/plain": [
       "(5310, 44)"
      ]
     },
     "execution_count": 7,
     "metadata": {},
     "output_type": "execute_result"
    }
   ],
   "source": [
    "projects_filtered_after_change.shape"
   ]
  },
  {
   "cell_type": "markdown",
   "metadata": {},
   "source": [
    "# Left Outer Join"
   ]
  },
  {
   "cell_type": "code",
   "execution_count": 8,
   "metadata": {},
   "outputs": [],
   "source": [
    "merge_Project_before_change=pd.merge(Projects_filtered_before_change,essays,how='left',left_on=['_projectid'],right_on=['_projectid'])\n",
    "merge_Project_after_change=pd.merge(projects_filtered_after_change,essays,how='left',left_on=['_projectid'],right_on=['_projectid'])"
   ]
  },
  {
   "cell_type": "code",
   "execution_count": 14,
   "metadata": {},
   "outputs": [
    {
     "data": {
      "text/html": [
       "<div>\n",
       "<style scoped>\n",
       "    .dataframe tbody tr th:only-of-type {\n",
       "        vertical-align: middle;\n",
       "    }\n",
       "\n",
       "    .dataframe tbody tr th {\n",
       "        vertical-align: top;\n",
       "    }\n",
       "\n",
       "    .dataframe thead th {\n",
       "        text-align: right;\n",
       "    }\n",
       "</style>\n",
       "<table border=\"1\" class=\"dataframe\">\n",
       "  <thead>\n",
       "    <tr style=\"text-align: right;\">\n",
       "      <th></th>\n",
       "      <th>_projectid</th>\n",
       "      <th>_teacher_acctid</th>\n",
       "      <th>_schoolid</th>\n",
       "      <th>school_ncesid</th>\n",
       "      <th>school_latitude</th>\n",
       "      <th>school_longitude</th>\n",
       "      <th>school_city</th>\n",
       "      <th>school_state</th>\n",
       "      <th>school_zip</th>\n",
       "      <th>school_metro</th>\n",
       "      <th>...</th>\n",
       "      <th>date_completed</th>\n",
       "      <th>date_thank_you_packet_mailed</th>\n",
       "      <th>date_expiration</th>\n",
       "      <th>_teacherid</th>\n",
       "      <th>title</th>\n",
       "      <th>short_description</th>\n",
       "      <th>need_statement</th>\n",
       "      <th>essay</th>\n",
       "      <th>thankyou_note</th>\n",
       "      <th>impact_letter</th>\n",
       "    </tr>\n",
       "  </thead>\n",
       "  <tbody>\n",
       "    <tr>\n",
       "      <th>0</th>\n",
       "      <td>b7522c5f123655aeba8f402ff4c872ac</td>\n",
       "      <td>90f6cd0870dd4b0efe3e14ad261199b0</td>\n",
       "      <td>f691deca4367bc3473bb95f1c57940c2</td>\n",
       "      <td>6.000510e+10</td>\n",
       "      <td>39.363066</td>\n",
       "      <td>-121.691551</td>\n",
       "      <td>Gridley</td>\n",
       "      <td>CA</td>\n",
       "      <td>95948.0</td>\n",
       "      <td>NaN</td>\n",
       "      <td>...</td>\n",
       "      <td>2010-03-10 00:00:00</td>\n",
       "      <td>2010-05-20 00:00:00</td>\n",
       "      <td>2010-06-06 00:00:00</td>\n",
       "      <td>90f6cd0870dd4b0efe3e14ad261199b0</td>\n",
       "      <td>A HP Laptop for the Desk Top!</td>\n",
       "      <td>I teach fourth grade in a rural, low-income ar...</td>\n",
       "      <td>My students need one HP G60-530US laptop and o...</td>\n",
       "      <td>I teach fourth grade in a rural, low-income ar...</td>\n",
       "      <td>Oh my gosh! Thank you all so much! We are fina...</td>\n",
       "      <td>Thank you all so much for your support with ou...</td>\n",
       "    </tr>\n",
       "    <tr>\n",
       "      <th>1</th>\n",
       "      <td>030f210a2a7888509d0b9d9ae58bc165</td>\n",
       "      <td>b035cdb8be34219aebef9ce1e9630354</td>\n",
       "      <td>912abd4272c7786dd1ecfa9a21709598</td>\n",
       "      <td>4.502490e+11</td>\n",
       "      <td>33.827660</td>\n",
       "      <td>-78.684898</td>\n",
       "      <td>Myrtle Beach</td>\n",
       "      <td>SC</td>\n",
       "      <td>29577.0</td>\n",
       "      <td>urban</td>\n",
       "      <td>...</td>\n",
       "      <td>2010-01-05 00:00:00</td>\n",
       "      <td>2010-01-28 00:00:00</td>\n",
       "      <td>2010-06-06 00:00:00</td>\n",
       "      <td>b035cdb8be34219aebef9ce1e9630354</td>\n",
       "      <td>We Need More Technology!</td>\n",
       "      <td>I am working to build a class set of HP mini l...</td>\n",
       "      <td>My students need an HP mini laptop computer.</td>\n",
       "      <td>My students really need technology at their fi...</td>\n",
       "      <td>Thank you so much for supporting public educat...</td>\n",
       "      <td>Our laptop arrived today and the students were...</td>\n",
       "    </tr>\n",
       "  </tbody>\n",
       "</table>\n",
       "<p>2 rows × 51 columns</p>\n",
       "</div>"
      ],
      "text/plain": [
       "                         _projectid                   _teacher_acctid  \\\n",
       "0  b7522c5f123655aeba8f402ff4c872ac  90f6cd0870dd4b0efe3e14ad261199b0   \n",
       "1  030f210a2a7888509d0b9d9ae58bc165  b035cdb8be34219aebef9ce1e9630354   \n",
       "\n",
       "                          _schoolid  school_ncesid  school_latitude  \\\n",
       "0  f691deca4367bc3473bb95f1c57940c2   6.000510e+10        39.363066   \n",
       "1  912abd4272c7786dd1ecfa9a21709598   4.502490e+11        33.827660   \n",
       "\n",
       "   school_longitude   school_city school_state  school_zip school_metro  \\\n",
       "0       -121.691551       Gridley           CA     95948.0          NaN   \n",
       "1        -78.684898  Myrtle Beach           SC     29577.0        urban   \n",
       "\n",
       "                         ...                               date_completed  \\\n",
       "0                        ...                          2010-03-10 00:00:00   \n",
       "1                        ...                          2010-01-05 00:00:00   \n",
       "\n",
       "  date_thank_you_packet_mailed      date_expiration  \\\n",
       "0          2010-05-20 00:00:00  2010-06-06 00:00:00   \n",
       "1          2010-01-28 00:00:00  2010-06-06 00:00:00   \n",
       "\n",
       "                         _teacherid                          title  \\\n",
       "0  90f6cd0870dd4b0efe3e14ad261199b0  A HP Laptop for the Desk Top!   \n",
       "1  b035cdb8be34219aebef9ce1e9630354       We Need More Technology!   \n",
       "\n",
       "                                   short_description  \\\n",
       "0  I teach fourth grade in a rural, low-income ar...   \n",
       "1  I am working to build a class set of HP mini l...   \n",
       "\n",
       "                                      need_statement  \\\n",
       "0  My students need one HP G60-530US laptop and o...   \n",
       "1       My students need an HP mini laptop computer.   \n",
       "\n",
       "                                               essay  \\\n",
       "0  I teach fourth grade in a rural, low-income ar...   \n",
       "1  My students really need technology at their fi...   \n",
       "\n",
       "                                       thankyou_note  \\\n",
       "0  Oh my gosh! Thank you all so much! We are fina...   \n",
       "1  Thank you so much for supporting public educat...   \n",
       "\n",
       "                                       impact_letter  \n",
       "0  Thank you all so much for your support with ou...  \n",
       "1  Our laptop arrived today and the students were...  \n",
       "\n",
       "[2 rows x 51 columns]"
      ]
     },
     "execution_count": 14,
     "metadata": {},
     "output_type": "execute_result"
    }
   ],
   "source": [
    "merge_Project_before_change.head(2)"
   ]
  },
  {
   "cell_type": "markdown",
   "metadata": {},
   "source": [
    "# write the merged dataframe to csv to be analysed by sentistrength"
   ]
  },
  {
   "cell_type": "code",
   "execution_count": 26,
   "metadata": {},
   "outputs": [],
   "source": [
    "#sentistrength_before_change=pd.DataFrame(columns=['_projecti','essay'])\n",
    "#sentistrength_before_change=merge_Project_before_change[['_projectid','essay']]\n",
    "#sentistrength_before_change.to_csv(\"sentistrength_before_change.csv\",index=False)\n",
    "sentistrength_after_change=pd.DataFrame(columns=['_projectid','essay'])\n",
    "sentistrength_after_change=merge_Project_after_change[['_projectid','essay']]\n",
    "sentistrength_after_change.to_csv(\"sentistrength_after_change.csv\",index=False)\n"
   ]
  },
  {
   "cell_type": "markdown",
   "metadata": {},
   "source": [
    "# changes in the format of essay\n",
    "Before Feb 18, 2010, teachers had the option of writing free form or responding to these questions:\n",
    "\n",
    "Paragraph 1 - Introduce Your Classroom\n",
    "Paragraph 2 - Describe the Situation\n",
    "Paragraph 3 - Describe the Solution\n",
    "Paragraph 4 - Empower Your Donors\n",
    "\n",
    "As of Feb 18, 2010, when the free-form essay option was removed as an option, the questions changed to these:\n",
    "\n",
    "Paragraph 1 - Open with the challenge facing your students.\n",
    "Paragraph 2 - Tell us more about your students.\n",
    "Paragraph 3 - Inspire your potential donors with an overview of the resources you're requesting\n",
    "Paragraph 4 - Close by sharing why your project is so important"
   ]
  },
  {
   "cell_type": "markdown",
   "metadata": {},
   "source": [
    "# Before Change"
   ]
  },
  {
   "cell_type": "code",
   "execution_count": 11,
   "metadata": {},
   "outputs": [
    {
     "data": {
      "text/plain": [
       "\"I teach fourth grade in a rural, low-income area of Northern California. We are considered a Title I school as the vast majority of our students qualify for free and reduced lunch. We also have a high percentage of ESL (English as a Second Language) students. \\r\\n\\r\\nEducation is becoming very technical. Many students in my class do not have access to computers at home and I want so desperately for them to be ready for this 21st century. Since school is the only place they have access to use computers, it would be wonderful to have a laptop to use in class. \\r\\n\\r\\nI am asking for one HP laptop and speakers in order to use with a LCD projector that is shared among other teachers at our grade level. By using the laptop and projector together, I can share videos, websites, and a plethora of other digital information to every student. We can also use this laptop in conjunction with a digital camera in order to share our years' successes with parents, faculty, and other students via PowerPoint and other programs!\\r\\n\\r\\nOn a weekly basis, my students and I would like to type and take language arts notes together (and be able to save them for future use), watch BrainPop Jr videos and science films, play math review games, research social studies topics, practice the resources on our class website, and use the wonderful digital science curriculum that coincides with our textbooks.  \\r\\n\\r\\nYour donation will allow my students access to worldwide knowledge! It will also enable them to share their own wisdom and creations! My students and I greatly appreciate your support in these rough economic times.\""
      ]
     },
     "execution_count": 11,
     "metadata": {},
     "output_type": "execute_result"
    }
   ],
   "source": [
    "merge_Project_before_change['essay'][0]"
   ]
  },
  {
   "cell_type": "raw",
   "metadata": {},
   "source": [
    "# Paragraph1-Introduce Your Classroom Paragraph \n",
    "I teach fourth grade in a rural, low-income area of Northern California.\n",
    "We are considered a Title I school as the vast majority of our students qualify for free and reduced lunch.\n",
    "We also have a high percentage of ESL (English as a Second Language) students.\n",
    "#Paragraph2-Describe the Situation Paragraph\n",
    "Education is becoming very technical. Many students in my class do not have access to computers at home \n",
    "and I want so desperately for them to be ready for this 21st century. \n",
    "Since school is the only place they have access to use computers, it would be wonderful to have a laptop to use in class.\n",
    "#Paragrapgh3-Describe the Solution\n",
    "I am asking for one HP laptop and speakers in order to use with\n",
    "a LCD projector that is shared among other teachers at our grade level. \n",
    "By using the laptop and projector together, I can share videos, websites, \n",
    "and a plethora of other digital information to every student.\n",
    "We can also use this laptop in conjunction with a digital camera in order to \n",
    "share our years' successes with parents, faculty, and other students via PowerPoint and other programs!\n",
    "#Paragrapgh4- Empower Your Donors\n",
    "Your donation will allow my students access to worldwide knowledge!\n",
    "It will also enable them to share their own wisdom and creations!\n",
    "My students and I greatly appreciate your support in these rough economic times.\""
   ]
  },
  {
   "cell_type": "code",
   "execution_count": 12,
   "metadata": {},
   "outputs": [
    {
     "data": {
      "text/plain": [
       "'My students really need technology at their fingertips on a daily basis to complete their work for most of their classes.  I teach special needs students at a high poverty high school in a resort community.  My students are juniors and seniors reaching the end of their high school career and are planning to enter college upon their graduation. \\r\\n\\r\\nWe do not always have access to computers in the classroom.  We have computer labs in our school, but they are usually booked for whole class use and the desktop computers in our classrooms are usually old and very slow. We have one HP mini laptop and the students love to work on it, but we need more so that they all have the opportunity to use an HP laptop. \\r\\n\\r\\nI am working to build a class set of HP mini laptops for my students to use whenever they need to complete assignments for their academic classes and to research colleges and careers.  I want to have technology available for them at all times.  If we had a class set of laptops, they could work independently at their desks on assignments or research possible colleges and careers. \\r\\n\\r\\nYour help will empower my students to have the latest technology available to them on a daily basis.  This will allow them to work on assignments, research colleges and careers, and improve their computer skills.'"
      ]
     },
     "execution_count": 12,
     "metadata": {},
     "output_type": "execute_result"
    }
   ],
   "source": [
    "merge_Project_before_change['essay'][1]"
   ]
  },
  {
   "cell_type": "raw",
   "metadata": {},
   "source": [
    "# Paragraph1-Introduce Your Classroom Paragraph \n",
    "My students really need technology at their fingertips on a daily basis to complete their work for most of their classes. \n",
    "I teach special needs students at a high poverty high school in a resort community.\n",
    "My students are juniors and seniors reaching the end of their high school career\n",
    "and are planning to enter college upon their graduation..\n",
    "#Paragraph2-Describe the Situation Paragraph\n",
    "We do not always have access to computers in the classroom. \n",
    "We have computer labs in our school, but they are usually booked for whole class use\n",
    "and the desktop computers in our classrooms are usually old and very slow.\n",
    "We have one HP mini laptop and the students love to work on it,\n",
    "but we need more so that they all have the opportunity to use an HP laptop. \n",
    "#Paragrapgh3-Describe the Solution\n",
    "I am working to build a class set of HP mini laptops for my students to use whenever they need to complete assignments \n",
    "for their academic classes and to research colleges and careers.  I want to have technology available for them at all times. \n",
    "If we had a class set of laptops,\n",
    "they could work independently at their desks on assignments or research possible colleges and careers.\n",
    "#Paragrapgh4- Empower Your Donors\n",
    "Your help will empower my students to have the latest technology available to them on a daily basis.\n",
    "This will allow them to work on assignments, research colleges and careers, and improve their computer skills.'"
   ]
  },
  {
   "cell_type": "code",
   "execution_count": 27,
   "metadata": {},
   "outputs": [
    {
     "data": {
      "text/plain": [
       "\"My class is composed of 20 active, enthusiastic second graders who love to learn anything new.  They are mostly from low-income families, and many are English Language Learners. \\r\\n\\r\\nWe love physical education!  The state says that we should do 100 minutes of P.E. every week, and we do!  Unfortunately, we have a limited amount of equipment.  I would like to let my students try something new.  We often buddy-up with another class of second graders during our P.E. time to maximize the equipment. \\r\\n\\r\\nThese students would love to learn how to play street hockey!  With a set of sticks and light pucks, they could really learn some new skills.  Learning hockey skills and techniques will improve their motor skills, make them stronger, and show them a whole new sport that they've probably never played! \\r\\n\\r\\nYou can make a difference for these children!  They can learn a skill they never even knew existed with your help!  Your donation could help us find the next hockey star, right in our own classroom.\""
      ]
     },
     "execution_count": 27,
     "metadata": {},
     "output_type": "execute_result"
    }
   ],
   "source": [
    "merge_Project_before_change['essay'][2]"
   ]
  },
  {
   "cell_type": "raw",
   "metadata": {},
   "source": [
    "# Paragraph1-Introduce Your Classroom Paragraph \n",
    "My class is composed of 20 active, enthusiastic second graders who love to learn anything new. \n",
    "They are mostly from low-income families, and many are English Language Learners.\n",
    "#Paragraph2-Describe the Situation Paragraph\n",
    "We love physical education!  The state says that we should do 100 minutes of P.E. every week,\n",
    "and we do!  Unfortunately, we have a limited amount of equipment.  I would like to let my students try something new.\n",
    "We often buddy-up with another class of second graders during our P.E. time to maximize the equipment. \n",
    "#Paragrapgh3-Describe the Solution\n",
    "These students would love to learn how to play street hockey!  With a set of sticks and light pucks, they could really learn some new skills. \n",
    "Learning hockey skills and techniques will improve their motor skills, make them stronger, and show them a whole new sport that they've probably never played!\n",
    "#Paragrapgh4- Empower Your Donors\n",
    "You can make a difference for these children!  They can learn a skill they never even knew existed with your help!\n",
    "Your donation could help us find the next hockey star, right in our own classroom.\""
   ]
  },
  {
   "cell_type": "code",
   "execution_count": 28,
   "metadata": {},
   "outputs": [
    {
     "data": {
      "text/plain": [
       "'My school is a new high school in the State of Maine. The school that I teach at is in the fifth year of existence. We are a small ethnically and racially diverse high school, with a high percentage of students who receive free or reduce lunch. Because of the small size of our school, less than 250 student, we are able to create a climate where teachers know students very well and can help push students to reach their full potential. The challenge of being a new school is that we do not have the collection of permanent resources that most long standing schools have accumulated over time. \\r\\n\\r\\nBeing small means that it is difficult to offer specialized Science elective courses for students. In our five years, we have only been able to offer two elective courses, neither of which were related to Earth Science. Funding this proposal would allow me to offer a lab and field based Geology Elective Course for the first time. \\r\\n\\r\\nThe materials requested in this proposal will allow me to provide in-class instruction on how minerals are formed and identified. They also will allow students the opportunity to practice identifying minerals in the classroom and then use the skills out in the field. The GPS devices will allow us to easily locate known mineral mines that are open to the public. The locations of these mines have been mapped by Maine government agencies on Google Earth. This makes the GPS coordinates easy to plot. Having two units will allow for groups to divide up and explore different mines at different times with the supervising adults. The rock picks are essential for actually unearthing the samples. The rock tumbler will be used to clean up the samples we discover once we return to school. \\r\\n\\r\\nFunding this proposal will allow students at my school an opportunity to pursue learning in a scientific field that we are currently unable to offer. It will provide the opportunity for students to experience how actual geologists use their content knowledge in real field experiences.'"
      ]
     },
     "execution_count": 28,
     "metadata": {},
     "output_type": "execute_result"
    }
   ],
   "source": [
    "merge_Project_before_change['essay'][3]"
   ]
  },
  {
   "cell_type": "raw",
   "metadata": {},
   "source": [
    "# Paragraph1-Introduce Your Classroom Paragraph \n",
    "My school is a new high school in the State of Maine. The school that I teach at is in the fifth year of existence.\n",
    "We are a small ethnically and racially diverse high school, with a high percentage of students who receive free or reduce lunch. \n",
    "Because of the small size of our school, less than 250 student,\n",
    "we are able to create a climate where teachers know students very well and can help push students to reach their full potential. \n",
    "The challenge of being a new school is that we do not have the collection of permanent resources that most long standing schools have accumulated over time.\n",
    "#Paragraph2-Describe the Situation Paragraph\n",
    "Being small means that it is difficult to offer specialized Science elective courses for students. \n",
    "In our five years, we have only been able to offer two elective courses, neither of which were related to Earth Science.\n",
    "Funding this proposal would allow me to offer a lab and field based Geology Elective Course for the first time.\n",
    "#Paragrapgh3-Describe the Solution\n",
    "The materials requested in this proposal will allow me to provide in-class instruction on how minerals are formed and identified.\n",
    "They also will allow students the opportunity to practice identifying minerals in the classroom and then use the skills out in the field. The GPS devices will allow us to easily locate known mineral mines that are open to the public. The locations of these mines have been mapped by Maine government agencies on Google Earth. This makes the GPS coordinates easy to plot. Having two units will allow for groups to divide up and explore different mines at different times with the supervising adults. The rock picks are essential for actually unearthing the samples.\n",
    "The rock tumbler will be used to clean up the samples we discover once we return to school. \n",
    "#Paragrapgh4- Empower Your Donors\n",
    "Funding this proposal will allow students at my school an opportunity to pursue learning in a scientific field that we are currently unable to offer. It will provide the opportunity for students to experience how actual geologists use their content knowledge in real field experiences.'"
   ]
  },
  {
   "cell_type": "markdown",
   "metadata": {},
   "source": [
    "# AfterChange"
   ]
  },
  {
   "cell_type": "code",
   "execution_count": 29,
   "metadata": {},
   "outputs": [
    {
     "data": {
      "text/plain": [
       "\"Do you remember what it was like to watch your mom reading the newspaper, and you tried to read the newspaper?  I want to provide the second grade students in my school the opportunity to read about current events at their appropriate reading level. \\r\\n\\r\\nMy students live in a rural county in Virginia.  Many of the students go without the basic necessities like running water.  Students often come to school without the supplies they need.  I would like to provide my second grade students with the opportunity to learn about the world around them by reading current events at their reading level.  My students will be excited to learn about different places in the world.  I would like my students the opportunity to learn more about the world in which we live in.  This subscription will allow them to learn more about the world and be able to read it at their level. \\r\\n\\r\\nMy students will learn more about the world around us.  They will be given the opportunity to learn about the world in which we live.  The magazine subscription will allow my students to read by themselves or with a partner about current events.  This subscription will also allow my students to explore outside their own rural county. \\r\\n\\r\\nDonating to this project will make a huge impact on my students.  It will allow them to practice their reading skills along with learning about current events.  I can't wait to share the joy of reading current events with my students! \""
      ]
     },
     "execution_count": 29,
     "metadata": {},
     "output_type": "execute_result"
    }
   ],
   "source": [
    "merge_Project_after_change['essay'][0]"
   ]
  },
  {
   "cell_type": "raw",
   "metadata": {},
   "source": [
    "#Paragraph 1 - Open with the challenge facing your students.\n",
    "Do you remember what it was like to watch your mom reading the newspaper, and you tried to read the newspaper?\n",
    "I want to provide the second grade students in my school the opportunity to read about current events at their appropriate reading level.\n",
    "#Paragraph 2 - Tell us more about your students. \n",
    "My students live in a rural county in Virginia. \n",
    "Many of the students go without the basic necessities like running water.\n",
    "Students often come to school without the supplies they need. \n",
    "I would like to provide my second grade students with the opportunity to learn about the world around them by reading current events at their reading level.  My students will be excited to learn about different places in the world.  I would like my students the opportunity to learn more about the world in which we live in.  This subscription will allow them to learn more about the world and be able to read it at their level. \\r\\n\\r\\nMy students will learn more about the world around us. \n",
    "They will be given the opportunity to learn about the world in which we live. \n",
    "#Paragraph 3 - Inspire your potential donors with an overview of the resources you're requesting \n",
    "nMy students will learn more about the world around us.\n",
    "They will be given the opportunity to learn about the world in which we live.\n",
    "The magazine subscription will allow my students to read by themselves or with a partner about current events.\n",
    "This subscription will also allow my students to explore outside their own rural county.\n",
    "#Paragraph 4 - Close by sharing why your project is so important\n",
    "Donating to this project will make a huge impact on my students. \n",
    "It will allow them to practice their reading skills along with learning about current events.\n",
    "I can't wait to share the joy of reading current events with my students! \""
   ]
  },
  {
   "cell_type": "code",
   "execution_count": 30,
   "metadata": {},
   "outputs": [
    {
     "data": {
      "text/plain": [
       "'My students do not have access to quality historical videos. These titles will help to give them a visual aspect of history to supplement their textbook. \\r\\n\\r\\nMy students are from the inner city and do not have the money to purchase these types of materials.  They are English Language Learners for the most part and struggle with their reading skills.  We are a High School in a low income, immigrant community.  They are enthusiastic about learning, but need more than just a book.   \\r\\n\\r\\nThese videos will be a great support for my classroom to replace some of the old videos that I have purchased on my own.  My students will be able to see history in a different way, visually through video, to support their reading assignments.  It will help bring history to life for them. \\r\\n\\r\\nMy students do not just sit and watch \"movies\" as they need to work on reading and vocabulary skills.  These videos will help to fill gaps in their minds that the textbook just can\\'t do.  They actively watch historical videos writing notes and answering questions throughout.    \\r\\n\\r\\nA well rounded understanding of History is essential for all Americans.  I feel that it is the most important subject we teach in school.  My students have a dream of someday going to college, and these skills that they learn in my classroom will help them to achieve that dream. College students need to be able to read and write. Moreover they need to learn to think critically, to recognize cause and effect; these skills will help them be successful in higher education and become more productive citizens.  Thanks. '"
      ]
     },
     "execution_count": 30,
     "metadata": {},
     "output_type": "execute_result"
    }
   ],
   "source": [
    "merge_Project_after_change['essay'][1]"
   ]
  },
  {
   "cell_type": "raw",
   "metadata": {},
   "source": [
    "#Paragraph 1 - Open with the challenge facing your students.\n",
    "My students do not have access to quality historical videos.\n",
    "These titles will help to give them a visual aspect of history to supplement their textbook.\n",
    "#Paragraph 2 - Tell us more about your students. \n",
    "My students are from the inner city and do not have the money to purchase these types of materials.\n",
    "They are English Language Learners for the most part and struggle with their reading skills.\n",
    "We are a High School in a low income, immigrant community. \n",
    "They are enthusiastic about learning, but need more than just a book.  \n",
    "#Paragraph 3 - Inspire your potential donors with an overview of the resources you're requesting \n",
    "These videos will be a great support for my classroom to replace some of the old videos that I have purchased on my own.\n",
    "My students will be able to see history in a different way, visually through video, to support their reading assignments. \n",
    "It will help bring history to life for them. \\r\\n\\r\\nMy students do not just sit and watch \"movies\" as they need to work on reading and vocabulary skills.  These videos will help to fill gaps in their minds that the textbook just can\\'t do. \n",
    "They actively watch historical videos writing notes and answering questions throughout. \n",
    "#Paragraph 4 - Close by sharing why your project is so important\n",
    "A well rounded understanding of History is essential for all Americans. \n",
    "I feel that it is the most important subject we teach in school.\n",
    "My students have a dream of someday going to college, and these skills that they learn in my classroom will help them to achieve that dream. College students need to be able to read and write.\n",
    "Moreover they need to learn to think critically, to recognize cause and effect; these skills will help them be successful in higher education and become more productive citizens.  Thanks."
   ]
  },
  {
   "cell_type": "code",
   "execution_count": 31,
   "metadata": {},
   "outputs": [
    {
     "data": {
      "text/plain": [
       "'What is a kindergarten classroom without a house area where children can use their imaginations while pretending to cook, cut up foods, set the table and practice social interactions? That was my favorite area of my kindergarten room growing up and I would like it to be for my students as well.  \\r\\n\\r\\nMy kindergarten students come from many diverse backgrounds and are learning two languages at the same time; some are native Spanish speakers and some are native English speakers. We are a public school in Wisconsin that provides instruction in Spanish and English and the children are really learning from one another. \\r\\n\\r\\nBy being able to interact with one another in our house center the students will be practicing important interactions with one another and learning about themselves and who they want to be as adults. They will also be able to practice their language skills with their friends as they use their imaginations in dramatic play.  \\r\\n\\r\\nThank you so much for considering donating to our project. It will not only help my 5 and 6 year old students develop their identities but also support their language learning by providing an area in our classroom where they can be creative and imaginative all the while having fun. ¡Muchas gracias!  '"
      ]
     },
     "execution_count": 31,
     "metadata": {},
     "output_type": "execute_result"
    }
   ],
   "source": [
    "merge_Project_after_change['essay'][2]"
   ]
  },
  {
   "cell_type": "raw",
   "metadata": {},
   "source": [
    "#Paragraph 1 - Open with the challenge facing your students.\n",
    "What is a kindergarten classroom without a house area where children can use their imaginations while pretending to cook, cut up foods, set the table and practice social interactions?\n",
    "That was my favorite area of my kindergarten room growing up and I would like it to be for my students as well.\n",
    "#Paragraph 2 - Tell us more about your students. \n",
    "My kindergarten students come from many diverse backgrounds and are learning two languages at the same time;\n",
    "some are native Spanish speakers and some are native English speakers. We are a public school in Wisconsin that provides instruction in Spanish and English and the children are really learning from one another. \n",
    "#Paragraph 3 - Inspire your potential donors with an overview of the resources you're requesting \n",
    "By being able to interact with one another in our house center the students will be practicing important interactions with one another and learning about themselves and who they want to be as adults. \n",
    "They will also be able to practice their language skills with their friends as they use their imaginations in dramatic play. \n",
    "#Paragraph 4 - Close by sharing why your project is so important\n",
    "Thank you so much for considering donating to our project.\n",
    "It will not only help my 5 and 6 year old students develop their identities but also support their language learning by providing an area in our classroom where they can be creative and imaginative all the while having fun. ¡Muchas gracias!"
   ]
  },
  {
   "cell_type": "code",
   "execution_count": 32,
   "metadata": {},
   "outputs": [
    {
     "data": {
      "text/plain": [
       "'Do you recall the overwhelming joy you felt as a child listening to your favorite story?  How you hung on to every word and later flipped through the pages over and over again?  Well, I predict that if Mo Willems were an author in your day, he would definitely be at the top of the list! \\r\\n\\r\\nI work with a fun-loving, active group of kindergarten children!  The students are enrolled in a language immersion program where they learn their core subjects through a second language.  At the same time, they also learn English.  When they graduate, the students will be bilingual, biliterate and globally aware. \\r\\n\\r\\nBecause my students are in a language immersion school, we have a limited amount of time for English Language Arts.  Therefore, it is extremely important that we make the most of our time.  My students love listening to stories and I love reading to them!  The stories written by Mo Willems are funny, age-appropriate and addicting and I know my students will go back to these books again and again.  In addition, the stories focus on friendship, caring and sharing which are key components in kindergarten. \\r\\n\\r\\nBy donating to this project, you will be helping to foster a love of reading in my students now and in the future! You will also be introducing my students to a new favorite author! '"
      ]
     },
     "execution_count": 32,
     "metadata": {},
     "output_type": "execute_result"
    }
   ],
   "source": [
    "merge_Project_after_change['essay'][3]"
   ]
  },
  {
   "cell_type": "code",
   "execution_count": null,
   "metadata": {},
   "outputs": [],
   "source": [
    "#Paragraph 1 - Open with the challenge facing your students.\n",
    "Do you recall the overwhelming joy you felt as a child listening to your favorite story? \n",
    "How you hung on to every word and later flipped through the pages over and over again? \n",
    "Well, I predict that if Mo Willems were an author in your day, he would definitely be at the top of the list!\n",
    "#Paragraph 2 - Tell us more about your students. \n",
    "I work with a fun-loving, active group of kindergarten children!\n",
    "The students are enrolled in a language immersion program where they learn their core subjects through a second language.\n",
    "At the same time, they also learn English.  When they graduate, the students will be bilingual, biliterate and globally aware. \n",
    "#Paragraph 3 - Inspire your potential donors with an overview of the resources you're requesting \n",
    "By being able to interact with one another in our house center the students will be practicing important interactions with one another and learning about themselves and who they want to be as adults. \n",
    "They will also be able to practice their language skills with their friends as they use their imaginations in dramatic play. \n",
    "#Paragraph 4 - Close by sharing why your project is so important\n",
    "Thank you so much for considering donating to our project.\n",
    "It will not only help my 5 and 6 year old students develop their identities but also support their language learning by providing an area in our classroom where they can be creative and imaginative all the while having fun. ¡Muchas gracias!"
   ]
  }
 ],
 "metadata": {
  "kernelspec": {
   "display_name": "Python 3",
   "language": "python",
   "name": "python3"
  },
  "language_info": {
   "codemirror_mode": {
    "name": "ipython",
    "version": 3
   },
   "file_extension": ".py",
   "mimetype": "text/x-python",
   "name": "python",
   "nbconvert_exporter": "python",
   "pygments_lexer": "ipython3",
   "version": "3.7.0"
  }
 },
 "nbformat": 4,
 "nbformat_minor": 2
}
