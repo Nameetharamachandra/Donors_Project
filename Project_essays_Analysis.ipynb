{
 "cells": [
  {
   "cell_type": "code",
   "execution_count": null,
   "metadata": {},
   "outputs": [],
   "source": [
    "#Code to write projects and essay into CSV"
   ]
  },
  {
   "cell_type": "code",
   "execution_count": 13,
   "metadata": {},
   "outputs": [],
   "source": [
    "import pandas  as pd\n",
    "Projects = pd.read_csv(\"opendata_projects000.gz\",   escapechar='\\\\', names=['_projectid', '_teacher_acctid', '_schoolid', 'school_ncesid', 'school_latitude', 'school_longitude', 'school_city', 'school_state', 'school_zip', 'school_metro', 'school_district', 'school_county', 'school_charter', 'school_magnet', 'school_year_round', 'school_nlns', 'school_kipp', 'school_charter_ready_promise', 'teacher_prefix', 'teacher_teach_for_america', 'teacher_ny_teaching_fellow', 'primary_focus_subject', 'primary_focus_area' ,'secondary_focus_subject', 'secondary_focus_area', 'resource_type', 'poverty_level', 'grade_level', 'vendor_shipping_charges', 'sales_tax', 'payment_processing_charges', 'fulfillment_labor_materials', 'total_price_excluding_optional_support', 'total_price_including_optional_support', 'students_reached', 'total_donations', 'num_donors', 'eligible_double_your_impact_match', 'eligible_almost_home_match', 'funding_status', 'date_posted', 'date_completed', 'date_thank_you_packet_mailed', 'date_expiration'])\n",
    "Projects.to_csv(\"Projects.csv\")\n",
    "\n"
   ]
  },
  {
   "cell_type": "code",
   "execution_count": 14,
   "metadata": {},
   "outputs": [],
   "source": [
    "essays = pd.read_csv('opendata_essays.gz', escapechar='\\\\', names=['_projectid', '_teacherid', 'title', 'short_description', 'need_statement', 'essay', 'thankyou_note', 'impact_letter'])\n",
    "essays.to_csv(\"essays.csv\")"
   ]
  },
  {
   "cell_type": "code",
   "execution_count": 15,
   "metadata": {},
   "outputs": [],
   "source": [
    "\n",
    "from datetime import datetime\n",
    "def Filter_records_between_dates(date1,date2):\n",
    "    Projects['date_posted']=pd.to_datetime(Projects['date_posted'], format='%Y-%m-%d')\n",
    "    date1 = datetime.strptime(date1, '%Y-%m-%d')\n",
    "    date2 = datetime.strptime(date2, '%Y-%m-%d')\n",
    "    Projects_filtered=Projects.loc[(Projects['date_posted']>=date1) & (Projects['date_posted']<date2)]\n",
    "    return Projects_filtered"
   ]
  },
  {
   "cell_type": "code",
   "execution_count": 16,
   "metadata": {},
   "outputs": [],
   "source": [
    "Projects_filtered_before_change=Filter_records_between_dates('2010-01-01','2010-01-30')\n",
    "projects_filtered_after_change=Filter_records_between_dates('2010-03-01','2010-03-30')"
   ]
  },
  {
   "cell_type": "code",
   "execution_count": 17,
   "metadata": {},
   "outputs": [],
   "source": [
    "Projects['date_posted']=pd.to_datetime(Projects['date_posted'], format='%Y-%m-%d')\n",
    "date1 = datetime.strptime('2010-02-01', '%Y-%m-%d')\n",
    "date2 = datetime.strptime('2010-02-18', '%Y-%m-%d')\n",
    "Projects=Projects.loc[(Projects['date_posted']>='2010-02-01') & (Projects['date_posted']<'2010-02-18')]"
   ]
  },
  {
   "cell_type": "code",
   "execution_count": 18,
   "metadata": {},
   "outputs": [
    {
     "data": {
      "text/plain": [
       "(5230, 44)"
      ]
     },
     "execution_count": 18,
     "metadata": {},
     "output_type": "execute_result"
    }
   ],
   "source": [
    "Projects_filtered_before_change.shape"
   ]
  },
  {
   "cell_type": "code",
   "execution_count": 19,
   "metadata": {},
   "outputs": [
    {
     "data": {
      "text/plain": [
       "(5310, 44)"
      ]
     },
     "execution_count": 19,
     "metadata": {},
     "output_type": "execute_result"
    }
   ],
   "source": [
    "projects_filtered_after_change.shape"
   ]
  },
  {
   "cell_type": "markdown",
   "metadata": {},
   "source": [
    "# Left Outer Join"
   ]
  },
  {
   "cell_type": "code",
   "execution_count": 20,
   "metadata": {},
   "outputs": [],
   "source": [
    "merge_Project_before_change=pd.merge(Projects_filtered_before_change,essays,how='left',left_on=['_projectid'],right_on=['_projectid'])\n",
    "merge_Project_after_change=pd.merge(projects_filtered_after_change,essays,how='left',left_on=['_projectid'],right_on=['_projectid'])"
   ]
  },
  {
   "cell_type": "markdown",
   "metadata": {},
   "source": [
    "# changes in the format of essay\n",
    "Before Feb 18, 2010, teachers had the option of writing free form or responding to these questions:\n",
    "\n",
    "Paragraph 1 - Introduce Your Classroom\n",
    "Paragraph 2 - Describe the Situation\n",
    "Paragraph 3 - Describe the Solution\n",
    "Paragraph 4 - Empower Your Donors\n",
    "\n",
    "As of Feb 18, 2010, when the free-form essay option was removed as an option, the questions changed to these:\n",
    "\n",
    "Paragraph 1 - Open with the challenge facing your students.\n",
    "Paragraph 2 - Tell us more about your students.\n",
    "Paragraph 3 - Inspire your potential donors with an overview of the resources you're requesting\n",
    "Paragraph 4 - Close by sharing why your project is so important"
   ]
  },
  {
   "cell_type": "code",
   "execution_count": 21,
   "metadata": {},
   "outputs": [
    {
     "data": {
      "text/plain": [
       "\"I teach fourth grade in a rural, low-income area of Northern California. We are considered a Title I school as the vast majority of our students qualify for free and reduced lunch. We also have a high percentage of ESL (English as a Second Language) students. \\r\\n\\r\\nEducation is becoming very technical. Many students in my class do not have access to computers at home and I want so desperately for them to be ready for this 21st century. Since school is the only place they have access to use computers, it would be wonderful to have a laptop to use in class. \\r\\n\\r\\nI am asking for one HP laptop and speakers in order to use with a LCD projector that is shared among other teachers at our grade level. By using the laptop and projector together, I can share videos, websites, and a plethora of other digital information to every student. We can also use this laptop in conjunction with a digital camera in order to share our years' successes with parents, faculty, and other students via PowerPoint and other programs!\\r\\n\\r\\nOn a weekly basis, my students and I would like to type and take language arts notes together (and be able to save them for future use), watch BrainPop Jr videos and science films, play math review games, research social studies topics, practice the resources on our class website, and use the wonderful digital science curriculum that coincides with our textbooks.  \\r\\n\\r\\nYour donation will allow my students access to worldwide knowledge! It will also enable them to share their own wisdom and creations! My students and I greatly appreciate your support in these rough economic times.\""
      ]
     },
     "execution_count": 21,
     "metadata": {},
     "output_type": "execute_result"
    }
   ],
   "source": [
    "merge_Project_before_change['essay'][0]"
   ]
  },
  {
   "cell_type": "raw",
   "metadata": {},
   "source": [
    "# Paragraph1-Introduce Your Classroom Paragraph \n",
    "I teach fourth grade in a rural, low-income area of Northern California.\n",
    "We are considered a Title I school as the vast majority of our students qualify for free and reduced lunch.\n",
    "We also have a high percentage of ESL (English as a Second Language) students.\n",
    "#Paragraph2-Describe the Situation Paragraph\n",
    "Education is becoming very technical. Many students in my class do not have access to computers at home \n",
    "and I want so desperately for them to be ready for this 21st century. \n",
    "Since school is the only place they have access to use computers, it would be wonderful to have a laptop to use in class.\n",
    "#Paragrapgh3-Describe the Solution\n",
    "I am asking for one HP laptop and speakers in order to use with\n",
    "a LCD projector that is shared among other teachers at our grade level. \n",
    "By using the laptop and projector together, I can share videos, websites, \n",
    "and a plethora of other digital information to every student.\n",
    "We can also use this laptop in conjunction with a digital camera in order to \n",
    "share our years' successes with parents, faculty, and other students via PowerPoint and other programs!\n",
    "#Paragrapgh4- Empower Your Donors\n",
    "Your donation will allow my students access to worldwide knowledge!\n",
    "It will also enable them to share their own wisdom and creations!\n",
    "My students and I greatly appreciate your support in these rough economic times.\""
   ]
  },
  {
   "cell_type": "markdown",
   "metadata": {},
   "source": [
    "# AfterChange"
   ]
  },
  {
   "cell_type": "code",
   "execution_count": 24,
   "metadata": {},
   "outputs": [
    {
     "data": {
      "text/plain": [
       "\"Do you remember what it was like to watch your mom reading the newspaper, and you tried to read the newspaper?  I want to provide the second grade students in my school the opportunity to read about current events at their appropriate reading level. \\r\\n\\r\\nMy students live in a rural county in Virginia.  Many of the students go without the basic necessities like running water.  Students often come to school without the supplies they need.  I would like to provide my second grade students with the opportunity to learn about the world around them by reading current events at their reading level.  My students will be excited to learn about different places in the world.  I would like my students the opportunity to learn more about the world in which we live in.  This subscription will allow them to learn more about the world and be able to read it at their level. \\r\\n\\r\\nMy students will learn more about the world around us.  They will be given the opportunity to learn about the world in which we live.  The magazine subscription will allow my students to read by themselves or with a partner about current events.  This subscription will also allow my students to explore outside their own rural county. \\r\\n\\r\\nDonating to this project will make a huge impact on my students.  It will allow them to practice their reading skills along with learning about current events.  I can't wait to share the joy of reading current events with my students! \""
      ]
     },
     "execution_count": 24,
     "metadata": {},
     "output_type": "execute_result"
    }
   ],
   "source": [
    "merge_Project_after_change['essay'][0]"
   ]
  },
  {
   "cell_type": "raw",
   "metadata": {},
   "source": [
    "#Paragraph 1 - Open with the challenge facing your students.\n",
    "Do you remember what it was like to watch your mom reading the newspaper, and you tried to read the newspaper?\n",
    "I want to provide the second grade students in my school the opportunity to read about current events at their appropriate reading level.\n",
    "#Paragraph 2 - Tell us more about your students. \n",
    "My students live in a rural county in Virginia. \n",
    "Many of the students go without the basic necessities like running water.\n",
    "Students often come to school without the supplies they need. \n",
    "I would like to provide my second grade students with the opportunity to learn about the world around them by reading current events at their reading level.  My students will be excited to learn about different places in the world.  I would like my students the opportunity to learn more about the world in which we live in.  This subscription will allow them to learn more about the world and be able to read it at their level. \\r\\n\\r\\nMy students will learn more about the world around us. \n",
    "They will be given the opportunity to learn about the world in which we live. \n",
    "#Paragraph 3 - Inspire your potential donors with an overview of the resources you're requesting \n",
    "nMy students will learn more about the world around us.\n",
    "They will be given the opportunity to learn about the world in which we live.\n",
    "The magazine subscription will allow my students to read by themselves or with a partner about current events.\n",
    "This subscription will also allow my students to explore outside their own rural county.\n",
    "#Paragraph 4 - Close by sharing why your project is so important\n",
    "Donating to this project will make a huge impact on my students. \n",
    "It will allow them to practice their reading skills along with learning about current events.\n",
    "I can't wait to share the joy of reading current events with my students! \""
   ]
  }
 ],
 "metadata": {
  "kernelspec": {
   "display_name": "Python 3",
   "language": "python",
   "name": "python3"
  },
  "language_info": {
   "codemirror_mode": {
    "name": "ipython",
    "version": 3
   },
   "file_extension": ".py",
   "mimetype": "text/x-python",
   "name": "python",
   "nbconvert_exporter": "python",
   "pygments_lexer": "ipython3",
   "version": "3.7.0"
  }
 },
 "nbformat": 4,
 "nbformat_minor": 2
}
