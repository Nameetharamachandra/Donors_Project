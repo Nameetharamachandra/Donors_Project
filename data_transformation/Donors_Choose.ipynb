{
 "cells": [
  {
   "cell_type": "code",
   "execution_count": 19,
   "metadata": {},
   "outputs": [
    {
     "name": "stderr",
     "output_type": "stream",
     "text": [
      "C:\\Users\\Nameetha\\Anaconda3\\lib\\site-packages\\IPython\\core\\interactiveshell.py:2785: DtypeWarning: Columns (13,14) have mixed types. Specify dtype option on import or set low_memory=False.\n",
      "  interactivity=interactivity, compiler=compiler, result=result)\n"
     ]
    }
   ],
   "source": [
    "import pandas as pd\n",
    "donations = pd.read_csv('C://Users/Nameetha/Desktop/Stata/opendata_donations000.gz',escapechar='\\\\', names=['_donationid', '_projectid', '_donor_acctid', '_cartid', 'donor_city', 'donor_state', 'donor_zip', 'is_teacher_acct', 'donation_timestamp', 'donation_to_project', 'donation_optional_support', 'donation_total', 'donation_included_optional_support', 'payment_method', 'payment_included_acct_credit', 'payment_included_campaign_gift_card', 'payment_included_web_purchased_gift_card', 'payment_was_promo_matched','is_teacher_referred', 'giving_page_id', 'giving_page_type', 'for_honoree', 'thank_you_packet_mailed'])\n",
    "# Filter the data for respective year from donations data\n",
    "Total_donations_2015=donations[(donations['donation_timestamp'].apply(lambda x:x[0:4]) == '2015')]\n",
    "\n",
    "giftcards = pd.read_csv('C://Users/Nameetha/Desktop/Stata/opendata_giftcards000.gz', escapechar='\\\\', names=['_giftcardid', 'dollar_tier', '_buyer_acctid', 'buyer_city', 'buyer_state', 'buyer_zip', 'date_purchased', '_buyer_cartid', '_recipient_acctid', 'recipient_city', 'recipient_state', 'recipient_zip', 'redeemed', 'date_redeemed', '_redeemed_cartid', 'payment_method', 'payment_included_acct_credit', 'payment_included_campaign_gift_card', 'payment_included_web_purchased_gift_card', 'payment_was_promo_matched'])\n",
    "#print(\"Filtering data for 2015...\")\n",
    "giftcards_2015=giftcards[(giftcards['date_purchased'].apply(lambda x:x[0:4]) == '2015')]\n",
    "giftcards_2015_Test=giftcards_2015.groupby(['_recipient_acctid'])[['_recipient_acctid']].count()\n",
    "giftcards_2015_Test=giftcards_2015_Test.rename(columns = {'_recipient_acctid':'_recipient_acctid_Count'})\n",
    "giftcards_2015_Test.reset_index(inplace=True)\n",
    "all_recipient_acctid=pd.DataFrame()\n",
    "all_recipient_acctid[\"_recipient_acctid\"]=(giftcards_2015_Test['_recipient_acctid'].where(giftcards_2015_Test['_recipient_acctid_Count'] == 1))\n",
    "all_recipient_acctid = all_recipient_acctid.dropna(how='any',axis=0) \n",
    "Gift_Merge_=pd.merge(all_recipient_acctid,giftcards_2015, how='left',left_on=['_recipient_acctid'],right_on=['_recipient_acctid'])\n"
   ]
  },
  {
   "cell_type": "code",
   "execution_count": 20,
   "metadata": {},
   "outputs": [
    {
     "name": "stderr",
     "output_type": "stream",
     "text": [
      "C:\\Users\\Nameetha\\Anaconda3\\lib\\site-packages\\pandas\\core\\generic.py:5890: SettingWithCopyWarning: \n",
      "A value is trying to be set on a copy of a slice from a DataFrame\n",
      "\n",
      "See the caveats in the documentation: http://pandas.pydata.org/pandas-docs/stable/indexing.html#indexing-view-versus-copy\n",
      "  self._update_inplace(new_data)\n"
     ]
    }
   ],
   "source": [
    "Total_donations_2015.payment_included_campaign_gift_card.replace(['t', 'f'], [1, 0], inplace=True)\n",
    "Total_donations_2015.payment_included_web_purchased_gift_card.replace(['t', 'f'], [1, 0], inplace=True)\n",
    "Final_Total_donations_2015=pd.DataFrame()\n",
    "Final_Total_donations_2015=Total_donations_2015.loc[ (Total_donations_2015.payment_included_web_purchased_gift_card==1) |\n",
    "                                                    (Total_donations_2015.payment_included_web_purchased_gift_card==1)]"
   ]
  },
  {
   "cell_type": "code",
   "execution_count": 22,
   "metadata": {},
   "outputs": [
    {
     "data": {
      "text/plain": [
       "(39897, 43)"
      ]
     },
     "execution_count": 22,
     "metadata": {},
     "output_type": "execute_result"
    }
   ],
   "source": [
    "Gift_Donation_Merge.shape"
   ]
  },
  {
   "cell_type": "code",
   "execution_count": 26,
   "metadata": {},
   "outputs": [],
   "source": [
    "Gift_Donation_Merge=pd.merge(Gift_Merge_,Final_Total_donations_2015, how='inner',left_on=['_recipient_acctid',(Gift_Merge_[\"date_redeemed\"]).astype(str).apply(lambda x:x[0:10])],\n",
    "                     right_on=['_donor_acctid',(Final_Total_donations_2015[\"donation_timestamp\"]).astype(str).apply(lambda x:x[0:10])])\n"
   ]
  },
  {
   "cell_type": "code",
   "execution_count": 27,
   "metadata": {},
   "outputs": [
    {
     "data": {
      "text/plain": [
       "(18201, 44)"
      ]
     },
     "execution_count": 27,
     "metadata": {},
     "output_type": "execute_result"
    }
   ],
   "source": [
    "Gift_Donation_Merge.shape"
   ]
  },
  {
   "cell_type": "code",
   "execution_count": null,
   "metadata": {},
   "outputs": [],
   "source": [
    "Gift_Donation_Merge.to_csv(\"\")"
   ]
  }
 ],
 "metadata": {
  "kernelspec": {
   "display_name": "Python 3",
   "language": "python",
   "name": "python3"
  },
  "language_info": {
   "codemirror_mode": {
    "name": "ipython",
    "version": 3
   },
   "file_extension": ".py",
   "mimetype": "text/x-python",
   "name": "python",
   "nbconvert_exporter": "python",
   "pygments_lexer": "ipython3",
   "version": "3.7.0"
  }
 },
 "nbformat": 4,
 "nbformat_minor": 2
}
