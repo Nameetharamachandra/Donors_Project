{
 "cells": [
  {
   "cell_type": "code",
   "execution_count": 55,
   "metadata": {},
   "outputs": [
    {
     "name": "stderr",
     "output_type": "stream",
     "text": [
      "C:\\Users\\Nameetha\\Anaconda3\\lib\\site-packages\\IPython\\core\\interactiveshell.py:2785: DtypeWarning: Columns (13,14) have mixed types. Specify dtype option on import or set low_memory=False.\n",
      "  interactivity=interactivity, compiler=compiler, result=result)\n"
     ]
    }
   ],
   "source": [
    "import pandas as pd\n",
    "donations = pd.read_csv('C://Users/Nameetha/Desktop/Stata/opendata_donations000.gz',escapechar='\\\\', names=['_donationid', '_projectid', '_donor_acctid', '_cartid', 'donor_city', 'donor_state', 'donor_zip', 'is_teacher_acct', 'donation_timestamp', 'donation_to_project', 'donation_optional_support', 'donation_total', 'donation_included_optional_support', 'payment_method', 'payment_included_acct_credit', 'payment_included_campaign_gift_card', 'payment_included_web_purchased_gift_card', 'payment_was_promo_matched','is_teacher_referred', 'giving_page_id', 'giving_page_type', 'for_honoree', 'thank_you_packet_mailed'])\n",
    "# Filter the data for respective year from donations data\n",
    "Total_donations_2015=donations[(donations['donation_timestamp'].apply(lambda x:x[0:4]) == '2015')]\n",
    "\n",
    "giftcards = pd.read_csv('C://Users/Nameetha/Desktop/Stata/opendata_giftcards000.gz', escapechar='\\\\', names=['_giftcardid', 'dollar_tier', '_buyer_acctid', 'buyer_city', 'buyer_state', 'buyer_zip', 'date_purchased', '_buyer_cartid', '_recipient_acctid', 'recipient_city', 'recipient_state', 'recipient_zip', 'redeemed', 'date_redeemed', '_redeemed_cartid', 'payment_method', 'payment_included_acct_credit', 'payment_included_campaign_gift_card', 'payment_included_web_purchased_gift_card', 'payment_was_promo_matched'])\n",
    "#print(\"Filtering data for 2015...\")\n",
    "giftcards_2015=giftcards[(giftcards['date_purchased'].apply(lambda x:x[0:4]) == '2015')]\n",
    "giftcards_2015_Test=giftcards_2015.groupby(['_recipient_acctid'])[['_recipient_acctid']].count()\n",
    "giftcards_2015_Test=giftcards_2015_Test.rename(columns = {'_recipient_acctid':'_recipient_acctid_Count'})\n",
    "giftcards_2015_Test.reset_index(inplace=True)\n",
    "all_recipient_acctid=pd.DataFrame()\n",
    "all_recipient_acctid[\"_recipient_acctid\"]=(giftcards_2015_Test['_recipient_acctid'].where(giftcards_2015_Test['_recipient_acctid_Count'] == 1))\n",
    "all_recipient_acctid = all_recipient_acctid.dropna(how='any',axis=0) \n",
    "Gift_Merge_=pd.merge(all_recipient_acctid,giftcards_2015, how='left',left_on=['_recipient_acctid'],right_on=['_recipient_acctid'])\n"
   ]
  },
  {
   "cell_type": "code",
   "execution_count": 56,
   "metadata": {},
   "outputs": [
    {
     "name": "stderr",
     "output_type": "stream",
     "text": [
      "C:\\Users\\Nameetha\\Anaconda3\\lib\\site-packages\\pandas\\core\\generic.py:5890: SettingWithCopyWarning: \n",
      "A value is trying to be set on a copy of a slice from a DataFrame\n",
      "\n",
      "See the caveats in the documentation: http://pandas.pydata.org/pandas-docs/stable/indexing.html#indexing-view-versus-copy\n",
      "  self._update_inplace(new_data)\n"
     ]
    }
   ],
   "source": [
    "Total_donations_2015.payment_included_campaign_gift_card.replace(['t', 'f'], [1, 0], inplace=True)\n",
    "Total_donations_2015.payment_included_web_purchased_gift_card.replace(['t', 'f'], [1, 0], inplace=True)\n",
    "Final_Total_donations_2015=pd.DataFrame()\n",
    "Final_Total_donations_2015=Total_donations_2015.loc[ (Total_donations_2015.payment_included_web_purchased_gift_card==1) |\n",
    "                                                    (Total_donations_2015.payment_included_campaign_gift_card==1)]"
   ]
  },
  {
   "cell_type": "code",
   "execution_count": 57,
   "metadata": {},
   "outputs": [],
   "source": [
    "Gift_Donation_Merge=pd.merge(Gift_Merge_,Final_Total_donations_2015, how='inner',left_on=['_recipient_acctid',(Gift_Merge_[\"date_redeemed\"]).astype(str).apply(lambda x:x[0:10])],\n",
    "                     right_on=['_donor_acctid',(Final_Total_donations_2015[\"donation_timestamp\"]).astype(str).apply(lambda x:x[0:10])])\n"
   ]
  },
  {
   "cell_type": "code",
   "execution_count": 6,
   "metadata": {},
   "outputs": [
    {
     "data": {
      "text/plain": [
       "(18201, 44)"
      ]
     },
     "execution_count": 6,
     "metadata": {},
     "output_type": "execute_result"
    }
   ],
   "source": [
    "Gift_Donation_Merge.shape"
   ]
  },
  {
   "cell_type": "code",
   "execution_count": 58,
   "metadata": {},
   "outputs": [],
   "source": [
    "Gift_Donation_Merge.payment_method_y.replace(['no_cash_received', 'promo_code_match', 'creditcard', 'paypal',\n",
    "       'amazon', 'double_your_impact_match', 'check', 'almost_home_match'], [1,0, 0, 0,\n",
    "      0, 0, 0, 0], inplace=True)"
   ]
  },
  {
   "cell_type": "code",
   "execution_count": 59,
   "metadata": {},
   "outputs": [],
   "source": [
    "Gift_Donation_Merge[\"Top_Up\"]= ((Gift_Donation_Merge.payment_included_campaign_gift_card_y==1) |\n",
    "                                                    (Gift_Donation_Merge.payment_included_web_purchased_gift_card_y==1)) & (Gift_Donation_Merge.payment_method_y==0) "
   ]
  },
  {
   "cell_type": "code",
   "execution_count": 61,
   "metadata": {},
   "outputs": [],
   "source": [
    "Gift_Donation_Merge.to_csv('C://Users/Nameetha/Desktop/Stata/Top_UP_2015_For_Logistic_Regression.csv')"
   ]
  },
  {
   "cell_type": "code",
   "execution_count": 25,
   "metadata": {},
   "outputs": [
    {
     "data": {
      "text/plain": [
       "(18201, 45)"
      ]
     },
     "execution_count": 25,
     "metadata": {},
     "output_type": "execute_result"
    }
   ],
   "source": [
    "Gift_Donation_Merge.s"
   ]
  },
  {
   "cell_type": "code",
   "execution_count": 26,
   "metadata": {},
   "outputs": [
    {
     "data": {
      "text/html": [
       "<div>\n",
       "<style scoped>\n",
       "    .dataframe tbody tr th:only-of-type {\n",
       "        vertical-align: middle;\n",
       "    }\n",
       "\n",
       "    .dataframe tbody tr th {\n",
       "        vertical-align: top;\n",
       "    }\n",
       "\n",
       "    .dataframe thead th {\n",
       "        text-align: right;\n",
       "    }\n",
       "</style>\n",
       "<table border=\"1\" class=\"dataframe\">\n",
       "  <thead>\n",
       "    <tr style=\"text-align: right;\">\n",
       "      <th></th>\n",
       "      <th>_recipient_acctid</th>\n",
       "      <th>key_1</th>\n",
       "      <th>_giftcardid</th>\n",
       "      <th>dollar_tier</th>\n",
       "      <th>_buyer_acctid</th>\n",
       "      <th>buyer_city</th>\n",
       "      <th>buyer_state</th>\n",
       "      <th>buyer_zip</th>\n",
       "      <th>date_purchased</th>\n",
       "      <th>_buyer_cartid</th>\n",
       "      <th>...</th>\n",
       "      <th>payment_included_acct_credit_y</th>\n",
       "      <th>payment_included_campaign_gift_card_y</th>\n",
       "      <th>payment_included_web_purchased_gift_card_y</th>\n",
       "      <th>payment_was_promo_matched_y</th>\n",
       "      <th>is_teacher_referred</th>\n",
       "      <th>giving_page_id</th>\n",
       "      <th>giving_page_type</th>\n",
       "      <th>for_honoree</th>\n",
       "      <th>thank_you_packet_mailed</th>\n",
       "      <th>Top_Up</th>\n",
       "    </tr>\n",
       "  </thead>\n",
       "  <tbody>\n",
       "  </tbody>\n",
       "</table>\n",
       "<p>0 rows × 45 columns</p>\n",
       "</div>"
      ],
      "text/plain": [
       "Empty DataFrame\n",
       "Columns: [_recipient_acctid, key_1, _giftcardid, dollar_tier, _buyer_acctid, buyer_city, buyer_state, buyer_zip, date_purchased, _buyer_cartid, recipient_city, recipient_state, recipient_zip, redeemed, date_redeemed, _redeemed_cartid, payment_method_x, payment_included_acct_credit_x, payment_included_campaign_gift_card_x, payment_included_web_purchased_gift_card_x, payment_was_promo_matched_x, _donationid, _projectid, _donor_acctid, _cartid, donor_city, donor_state, donor_zip, is_teacher_acct, donation_timestamp, donation_to_project, donation_optional_support, donation_total, donation_included_optional_support, payment_method_y, payment_included_acct_credit_y, payment_included_campaign_gift_card_y, payment_included_web_purchased_gift_card_y, payment_was_promo_matched_y, is_teacher_referred, giving_page_id, giving_page_type, for_honoree, thank_you_packet_mailed, Top_Up]\n",
       "Index: []\n",
       "\n",
       "[0 rows x 45 columns]"
      ]
     },
     "execution_count": 26,
     "metadata": {},
     "output_type": "execute_result"
    }
   ],
   "source": [
    "Gift_Donation_Merge.loc[((Gift_Donation_Merge.payment_included_campaign_gift_card_y==0) &\n",
    "                                                    (Gift_Donation_Merge.payment_included_web_purchased_gift_card_y==0))]"
   ]
  },
  {
   "cell_type": "code",
   "execution_count": 28,
   "metadata": {},
   "outputs": [
    {
     "data": {
      "text/plain": [
       "545469     t\n",
       "545470     f\n",
       "545471     t\n",
       "545472     t\n",
       "545473     t\n",
       "545475     f\n",
       "545476     t\n",
       "545477     t\n",
       "545478     t\n",
       "545479     t\n",
       "545481     t\n",
       "545483     t\n",
       "545484     t\n",
       "545485     f\n",
       "545486     t\n",
       "545487     f\n",
       "545489     f\n",
       "545490     t\n",
       "545491     t\n",
       "545492     f\n",
       "545493     t\n",
       "545495     t\n",
       "545496     t\n",
       "545497     t\n",
       "545498     f\n",
       "545499     t\n",
       "545500     t\n",
       "545501     t\n",
       "545502     t\n",
       "545503     t\n",
       "          ..\n",
       "1051834    f\n",
       "1051850    f\n",
       "1051919    f\n",
       "1051945    f\n",
       "1051947    f\n",
       "1052040    f\n",
       "1052045    f\n",
       "1052086    f\n",
       "1052150    f\n",
       "1052157    f\n",
       "1052208    f\n",
       "1052218    f\n",
       "1052236    f\n",
       "1052290    f\n",
       "1052329    f\n",
       "1052364    f\n",
       "1052412    f\n",
       "1052484    f\n",
       "1052535    f\n",
       "1052566    f\n",
       "1052586    f\n",
       "1052595    f\n",
       "1052743    f\n",
       "1052791    f\n",
       "1052922    f\n",
       "1052924    f\n",
       "1052926    f\n",
       "1052950    f\n",
       "1052962    f\n",
       "1053003    f\n",
       "Name: payment_included_web_purchased_gift_card, Length: 355862, dtype: object"
      ]
     },
     "execution_count": 28,
     "metadata": {},
     "output_type": "execute_result"
    }
   ],
   "source": [
    "giftcards_2015[\"payment_included_web_purchased_gift_card\"]"
   ]
  },
  {
   "cell_type": "code",
   "execution_count": 49,
   "metadata": {},
   "outputs": [],
   "source": [
    "test=Total_donations_2015.loc[ (Total_donations_2015.payment_included_web_purchased_gift_card==1)]"
   ]
  },
  {
   "cell_type": "code",
   "execution_count": null,
   "metadata": {},
   "outputs": [],
   "source": [
    "test1=Total_donations_2015.loc[ (Total_donations_2015.payment_included_web_purchased_gift_card==1)]"
   ]
  },
  {
   "cell_type": "code",
   "execution_count": 50,
   "metadata": {},
   "outputs": [
    {
     "data": {
      "text/plain": [
       "(133535, 23)"
      ]
     },
     "execution_count": 50,
     "metadata": {},
     "output_type": "execute_result"
    }
   ],
   "source": [
    "test.shape"
   ]
  },
  {
   "cell_type": "code",
   "execution_count": 48,
   "metadata": {},
   "outputs": [
    {
     "data": {
      "text/plain": [
       "(133535, 23)"
      ]
     },
     "execution_count": 48,
     "metadata": {},
     "output_type": "execute_result"
    }
   ],
   "source": [
    "Final_Total_donations_2015.shape"
   ]
  },
  {
   "cell_type": "code",
   "execution_count": 52,
   "metadata": {},
   "outputs": [
    {
     "data": {
      "text/html": [
       "<div>\n",
       "<style scoped>\n",
       "    .dataframe tbody tr th:only-of-type {\n",
       "        vertical-align: middle;\n",
       "    }\n",
       "\n",
       "    .dataframe tbody tr th {\n",
       "        vertical-align: top;\n",
       "    }\n",
       "\n",
       "    .dataframe thead th {\n",
       "        text-align: right;\n",
       "    }\n",
       "</style>\n",
       "<table border=\"1\" class=\"dataframe\">\n",
       "  <thead>\n",
       "    <tr style=\"text-align: right;\">\n",
       "      <th></th>\n",
       "      <th>_recipient_acctid</th>\n",
       "      <th>key_1</th>\n",
       "      <th>_giftcardid</th>\n",
       "      <th>dollar_tier</th>\n",
       "      <th>_buyer_acctid</th>\n",
       "      <th>buyer_city</th>\n",
       "      <th>buyer_state</th>\n",
       "      <th>buyer_zip</th>\n",
       "      <th>date_purchased</th>\n",
       "      <th>_buyer_cartid</th>\n",
       "      <th>...</th>\n",
       "      <th>payment_included_acct_credit_y</th>\n",
       "      <th>payment_included_campaign_gift_card_y</th>\n",
       "      <th>payment_included_web_purchased_gift_card_y</th>\n",
       "      <th>payment_was_promo_matched_y</th>\n",
       "      <th>is_teacher_referred</th>\n",
       "      <th>giving_page_id</th>\n",
       "      <th>giving_page_type</th>\n",
       "      <th>for_honoree</th>\n",
       "      <th>thank_you_packet_mailed</th>\n",
       "      <th>Top_Up</th>\n",
       "    </tr>\n",
       "  </thead>\n",
       "  <tbody>\n",
       "    <tr>\n",
       "      <th>0</th>\n",
       "      <td>0000fc11407901bcacdfad1db909b9f6</td>\n",
       "      <td>2015-09-04</td>\n",
       "      <td>1b24d914c61e31aec3a6e12dd1abfc34</td>\n",
       "      <td>100_and_up</td>\n",
       "      <td>9962ffe549afce18ad6676142d370bfa</td>\n",
       "      <td>NaN</td>\n",
       "      <td>AL</td>\n",
       "      <td>357.0</td>\n",
       "      <td>2015-09-04</td>\n",
       "      <td>a41c9ec0cca63a763d521e0b2bc49128</td>\n",
       "      <td>...</td>\n",
       "      <td>f</td>\n",
       "      <td>0</td>\n",
       "      <td>1</td>\n",
       "      <td>f</td>\n",
       "      <td>t</td>\n",
       "      <td>560483c6dc1bbbb321972b655b0d2048</td>\n",
       "      <td>teacher</td>\n",
       "      <td>f</td>\n",
       "      <td>f</td>\n",
       "      <td>False</td>\n",
       "    </tr>\n",
       "    <tr>\n",
       "      <th>1</th>\n",
       "      <td>00087bdaa579b108e0b96030a33a0065</td>\n",
       "      <td>2015-09-19</td>\n",
       "      <td>fc8928bb140905490c7965a74c72070a</td>\n",
       "      <td>10_to_100</td>\n",
       "      <td>62cba1f0fe6e073bf077ee8ed654f789</td>\n",
       "      <td>NaN</td>\n",
       "      <td>MN</td>\n",
       "      <td>101.0</td>\n",
       "      <td>2015-09-19</td>\n",
       "      <td>NaN</td>\n",
       "      <td>...</td>\n",
       "      <td>f</td>\n",
       "      <td>0</td>\n",
       "      <td>1</td>\n",
       "      <td>f</td>\n",
       "      <td>f</td>\n",
       "      <td>NaN</td>\n",
       "      <td>NaN</td>\n",
       "      <td>f</td>\n",
       "      <td>f</td>\n",
       "      <td>False</td>\n",
       "    </tr>\n",
       "    <tr>\n",
       "      <th>2</th>\n",
       "      <td>000b476cefb172411486ba92e80fbed3</td>\n",
       "      <td>2015-11-11</td>\n",
       "      <td>c0c3a05e8d9080274d33447b2fd0b2a4</td>\n",
       "      <td>10_to_100</td>\n",
       "      <td>cde384c0f20468f64e693b62bf16bf35</td>\n",
       "      <td>Alpharetta</td>\n",
       "      <td>GA</td>\n",
       "      <td>300.0</td>\n",
       "      <td>2015-10-14</td>\n",
       "      <td>37a3e1dade0096862e6585589f58e97a</td>\n",
       "      <td>...</td>\n",
       "      <td>f</td>\n",
       "      <td>0</td>\n",
       "      <td>1</td>\n",
       "      <td>f</td>\n",
       "      <td>f</td>\n",
       "      <td>NaN</td>\n",
       "      <td>NaN</td>\n",
       "      <td>f</td>\n",
       "      <td>f</td>\n",
       "      <td>False</td>\n",
       "    </tr>\n",
       "    <tr>\n",
       "      <th>3</th>\n",
       "      <td>000c4bce0a76e3f9e5ebd17615a2483d</td>\n",
       "      <td>2015-11-21</td>\n",
       "      <td>8e346eca2c4b982e31a3f4a5039fc238</td>\n",
       "      <td>100_and_up</td>\n",
       "      <td>10f875467a3d7dc5f247064b4a8e715a</td>\n",
       "      <td>NaN</td>\n",
       "      <td>NY</td>\n",
       "      <td>112.0</td>\n",
       "      <td>2015-11-11</td>\n",
       "      <td>a4b26f39f222a7bf287e8a42dabbb819</td>\n",
       "      <td>...</td>\n",
       "      <td>f</td>\n",
       "      <td>0</td>\n",
       "      <td>1</td>\n",
       "      <td>f</td>\n",
       "      <td>t</td>\n",
       "      <td>c6c108210686919f7bd3507386638e10</td>\n",
       "      <td>teacher</td>\n",
       "      <td>f</td>\n",
       "      <td>f</td>\n",
       "      <td>False</td>\n",
       "    </tr>\n",
       "    <tr>\n",
       "      <th>4</th>\n",
       "      <td>000e798165db6e2714d3dd437b239fc2</td>\n",
       "      <td>2015-09-16</td>\n",
       "      <td>6f49859313dfca04ce454006fcba81e8</td>\n",
       "      <td>10_to_100</td>\n",
       "      <td>62cba1f0fe6e073bf077ee8ed654f789</td>\n",
       "      <td>NaN</td>\n",
       "      <td>MN</td>\n",
       "      <td>101.0</td>\n",
       "      <td>2015-09-16</td>\n",
       "      <td>NaN</td>\n",
       "      <td>...</td>\n",
       "      <td>f</td>\n",
       "      <td>0</td>\n",
       "      <td>1</td>\n",
       "      <td>f</td>\n",
       "      <td>f</td>\n",
       "      <td>NaN</td>\n",
       "      <td>NaN</td>\n",
       "      <td>f</td>\n",
       "      <td>f</td>\n",
       "      <td>False</td>\n",
       "    </tr>\n",
       "  </tbody>\n",
       "</table>\n",
       "<p>5 rows × 45 columns</p>\n",
       "</div>"
      ],
      "text/plain": [
       "                  _recipient_acctid       key_1  \\\n",
       "0  0000fc11407901bcacdfad1db909b9f6  2015-09-04   \n",
       "1  00087bdaa579b108e0b96030a33a0065  2015-09-19   \n",
       "2  000b476cefb172411486ba92e80fbed3  2015-11-11   \n",
       "3  000c4bce0a76e3f9e5ebd17615a2483d  2015-11-21   \n",
       "4  000e798165db6e2714d3dd437b239fc2  2015-09-16   \n",
       "\n",
       "                        _giftcardid dollar_tier  \\\n",
       "0  1b24d914c61e31aec3a6e12dd1abfc34  100_and_up   \n",
       "1  fc8928bb140905490c7965a74c72070a   10_to_100   \n",
       "2  c0c3a05e8d9080274d33447b2fd0b2a4   10_to_100   \n",
       "3  8e346eca2c4b982e31a3f4a5039fc238  100_and_up   \n",
       "4  6f49859313dfca04ce454006fcba81e8   10_to_100   \n",
       "\n",
       "                      _buyer_acctid  buyer_city buyer_state  buyer_zip  \\\n",
       "0  9962ffe549afce18ad6676142d370bfa         NaN          AL      357.0   \n",
       "1  62cba1f0fe6e073bf077ee8ed654f789         NaN          MN      101.0   \n",
       "2  cde384c0f20468f64e693b62bf16bf35  Alpharetta          GA      300.0   \n",
       "3  10f875467a3d7dc5f247064b4a8e715a         NaN          NY      112.0   \n",
       "4  62cba1f0fe6e073bf077ee8ed654f789         NaN          MN      101.0   \n",
       "\n",
       "  date_purchased                     _buyer_cartid  ...    \\\n",
       "0     2015-09-04  a41c9ec0cca63a763d521e0b2bc49128  ...     \n",
       "1     2015-09-19                               NaN  ...     \n",
       "2     2015-10-14  37a3e1dade0096862e6585589f58e97a  ...     \n",
       "3     2015-11-11  a4b26f39f222a7bf287e8a42dabbb819  ...     \n",
       "4     2015-09-16                               NaN  ...     \n",
       "\n",
       "  payment_included_acct_credit_y payment_included_campaign_gift_card_y  \\\n",
       "0                              f                                     0   \n",
       "1                              f                                     0   \n",
       "2                              f                                     0   \n",
       "3                              f                                     0   \n",
       "4                              f                                     0   \n",
       "\n",
       "   payment_included_web_purchased_gift_card_y payment_was_promo_matched_y  \\\n",
       "0                                           1                           f   \n",
       "1                                           1                           f   \n",
       "2                                           1                           f   \n",
       "3                                           1                           f   \n",
       "4                                           1                           f   \n",
       "\n",
       "  is_teacher_referred                    giving_page_id giving_page_type  \\\n",
       "0                   t  560483c6dc1bbbb321972b655b0d2048          teacher   \n",
       "1                   f                               NaN              NaN   \n",
       "2                   f                               NaN              NaN   \n",
       "3                   t  c6c108210686919f7bd3507386638e10          teacher   \n",
       "4                   f                               NaN              NaN   \n",
       "\n",
       "  for_honoree thank_you_packet_mailed Top_Up  \n",
       "0           f                       f  False  \n",
       "1           f                       f  False  \n",
       "2           f                       f  False  \n",
       "3           f                       f  False  \n",
       "4           f                       f  False  \n",
       "\n",
       "[5 rows x 45 columns]"
      ]
     },
     "execution_count": 52,
     "metadata": {},
     "output_type": "execute_result"
    }
   ],
   "source": [
    "Gift_Donation_Merge.head(5)"
   ]
  },
  {
   "cell_type": "code",
   "execution_count": null,
   "metadata": {},
   "outputs": [],
   "source": []
  }
 ],
 "metadata": {
  "kernelspec": {
   "display_name": "Python 3",
   "language": "python",
   "name": "python3"
  },
  "language_info": {
   "codemirror_mode": {
    "name": "ipython",
    "version": 3
   },
   "file_extension": ".py",
   "mimetype": "text/x-python",
   "name": "python",
   "nbconvert_exporter": "python",
   "pygments_lexer": "ipython3",
   "version": "3.7.0"
  }
 },
 "nbformat": 4,
 "nbformat_minor": 2
}
