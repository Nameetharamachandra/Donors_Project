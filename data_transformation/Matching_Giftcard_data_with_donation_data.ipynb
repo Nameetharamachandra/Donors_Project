{
 "cells": [
  {
   "cell_type": "code",
   "execution_count": 1,
   "metadata": {},
   "outputs": [],
   "source": [
    "import pandas as pd"
   ]
  },
  {
   "cell_type": "code",
   "execution_count": 55,
   "metadata": {
    "scrolled": true
   },
   "outputs": [
    {
     "name": "stderr",
     "output_type": "stream",
     "text": [
      "C:\\Users\\Nameetha\\Anaconda3\\lib\\site-packages\\IPython\\core\\interactiveshell.py:2785: DtypeWarning: Columns (13,14) have mixed types. Specify dtype option on import or set low_memory=False.\n",
      "  interactivity=interactivity, compiler=compiler, result=result)\n"
     ]
    }
   ],
   "source": [
    "\n",
    "donations = pd.read_csv('C://Users/Nameetha/Desktop/Stata/opendata_donations000.gz',escapechar='\\\\', \n",
    "                        names=['_donationid', '_projectid', '_donor_acctid', '_cartid', 'donor_city', \n",
    "                               'donor_state', 'donor_zip', 'is_teacher_acct', 'donation_timestamp', \n",
    "                               'donation_to_project', 'donation_optional_support', 'donation_total', \n",
    "                               'donation_included_optional_support', 'payment_method', 'payment_included_acct_credit', \n",
    "                               'payment_included_campaign_gift_card', 'payment_included_web_purchased_gift_card', \n",
    "                               'payment_was_promo_matched','is_teacher_referred', 'giving_page_id', \n",
    "                               'giving_page_type', 'for_honoree', 'thank_you_packet_mailed'])\n"
   ]
  },
  {
   "cell_type": "code",
   "execution_count": 2,
   "metadata": {},
   "outputs": [],
   "source": [
    "donations = pd.read_csv('C:/Users/vivek4/Downloads/donorschoose_data/opendata_donations000.gz',escapechar='\\\\', \n",
    "                        names=['_donationid', '_projectid', '_donor_acctid', '_cartid', 'donor_city', \n",
    "                               'donor_state', 'donor_zip', 'is_teacher_acct', 'donation_timestamp', \n",
    "                               'donation_to_project', 'donation_optional_support', 'donation_total', \n",
    "                               'donation_included_optional_support', 'payment_method', 'payment_included_acct_credit', \n",
    "                               'payment_included_campaign_gift_card', 'payment_included_web_purchased_gift_card', \n",
    "                               'payment_was_promo_matched','is_teacher_referred', 'giving_page_id', \n",
    "                               'giving_page_type', 'for_honoree', 'thank_you_packet_mailed'])"
   ]
  },
  {
   "cell_type": "code",
   "execution_count": 3,
   "metadata": {},
   "outputs": [
    {
     "data": {
      "text/plain": [
       "(6211956, 23)"
      ]
     },
     "execution_count": 3,
     "metadata": {},
     "output_type": "execute_result"
    }
   ],
   "source": [
    "donations.shape"
   ]
  },
  {
   "cell_type": "code",
   "execution_count": 4,
   "metadata": {},
   "outputs": [],
   "source": [
    "# Filter the data for respective year from donations data\n",
    "donations_2015=donations[(donations['donation_timestamp'].apply(lambda x:x[0:4]) == '2015')]"
   ]
  },
  {
   "cell_type": "code",
   "execution_count": 5,
   "metadata": {},
   "outputs": [
    {
     "data": {
      "text/plain": [
       "(1101603, 23)"
      ]
     },
     "execution_count": 5,
     "metadata": {},
     "output_type": "execute_result"
    }
   ],
   "source": [
    "donations_2015.shape"
   ]
  },
  {
   "cell_type": "code",
   "execution_count": null,
   "metadata": {},
   "outputs": [],
   "source": [
    "giftcards = pd.read_csv('C://Users/Nameetha/Desktop/Stata/opendata_giftcards000.gz', \n",
    "                        escapechar='\\\\', names=['_giftcardid', 'dollar_tier', '_buyer_acctid', 'buyer_city', \n",
    "                                                'buyer_state', 'buyer_zip', 'date_purchased', '_buyer_cartid', \n",
    "                                                '_recipient_acctid', 'recipient_city', 'recipient_state', \n",
    "                                                'recipient_zip', 'redeemed', 'date_redeemed', '_redeemed_cartid', \n",
    "                                                'payment_method', 'payment_included_acct_credit', \n",
    "                                                'payment_included_campaign_gift_card', \n",
    "                                                'payment_included_web_purchased_gift_card', 'payment_was_promo_matched'])\n"
   ]
  },
  {
   "cell_type": "code",
   "execution_count": 8,
   "metadata": {},
   "outputs": [
    {
     "name": "stderr",
     "output_type": "stream",
     "text": [
      "C:\\ProgramData\\Anaconda3\\lib\\site-packages\\IPython\\core\\interactiveshell.py:2728: DtypeWarning: Columns (13,14) have mixed types. Specify dtype option on import or set low_memory=False.\n",
      "  interactivity=interactivity, compiler=compiler, result=result)\n"
     ]
    }
   ],
   "source": [
    "giftcards = pd.read_csv('C://Users/vivek4/Downloads/donorschoose_data/opendata_giftcards000.gz', \n",
    "                        escapechar='\\\\', names=['_giftcardid', 'dollar_tier', '_buyer_acctid', 'buyer_city', \n",
    "                                                'buyer_state', 'buyer_zip', 'date_purchased', '_buyer_cartid', \n",
    "                                                '_recipient_acctid', 'recipient_city', 'recipient_state', \n",
    "                                                'recipient_zip', 'redeemed', 'date_redeemed', '_redeemed_cartid', \n",
    "                                                'payment_method', 'payment_included_acct_credit', \n",
    "                                                'payment_included_campaign_gift_card', \n",
    "                                                'payment_included_web_purchased_gift_card', 'payment_was_promo_matched'])"
   ]
  },
  {
   "cell_type": "code",
   "execution_count": 10,
   "metadata": {},
   "outputs": [
    {
     "data": {
      "text/plain": [
       "(1053024, 20)"
      ]
     },
     "execution_count": 10,
     "metadata": {},
     "output_type": "execute_result"
    }
   ],
   "source": [
    "giftcards.shape"
   ]
  },
  {
   "cell_type": "code",
   "execution_count": 11,
   "metadata": {},
   "outputs": [],
   "source": [
    "#print(\"Filtering data for 2015...\")\n",
    "giftcards_2015=giftcards[(giftcards['date_purchased'].apply(lambda x:x[0:4]) == '2015')]\n"
   ]
  },
  {
   "cell_type": "code",
   "execution_count": 12,
   "metadata": {},
   "outputs": [
    {
     "data": {
      "text/plain": [
       "(355862, 20)"
      ]
     },
     "execution_count": 12,
     "metadata": {},
     "output_type": "execute_result"
    }
   ],
   "source": [
    "giftcards_2015.shape"
   ]
  },
  {
   "cell_type": "markdown",
   "metadata": {},
   "source": [
    "Group data by recipient account id '_recipient_acctid'"
   ]
  },
  {
   "cell_type": "code",
   "execution_count": 13,
   "metadata": {},
   "outputs": [],
   "source": [
    "giftcards_2015_Test=giftcards_2015.groupby(['_recipient_acctid'])[['_recipient_acctid']].count()"
   ]
  },
  {
   "cell_type": "code",
   "execution_count": 14,
   "metadata": {},
   "outputs": [
    {
     "data": {
      "text/plain": [
       "(53920, 1)"
      ]
     },
     "execution_count": 14,
     "metadata": {},
     "output_type": "execute_result"
    }
   ],
   "source": [
    "giftcards_2015_Test.shape"
   ]
  },
  {
   "cell_type": "code",
   "execution_count": 15,
   "metadata": {},
   "outputs": [
    {
     "data": {
      "text/html": [
       "<div>\n",
       "<style scoped>\n",
       "    .dataframe tbody tr th:only-of-type {\n",
       "        vertical-align: middle;\n",
       "    }\n",
       "\n",
       "    .dataframe tbody tr th {\n",
       "        vertical-align: top;\n",
       "    }\n",
       "\n",
       "    .dataframe thead th {\n",
       "        text-align: right;\n",
       "    }\n",
       "</style>\n",
       "<table border=\"1\" class=\"dataframe\">\n",
       "  <thead>\n",
       "    <tr style=\"text-align: right;\">\n",
       "      <th></th>\n",
       "      <th>_recipient_acctid</th>\n",
       "    </tr>\n",
       "    <tr>\n",
       "      <th>_recipient_acctid</th>\n",
       "      <th></th>\n",
       "    </tr>\n",
       "  </thead>\n",
       "  <tbody>\n",
       "    <tr>\n",
       "      <th>00002eb25d60a09c318efbd0797bffb5</th>\n",
       "      <td>1</td>\n",
       "    </tr>\n",
       "    <tr>\n",
       "      <th>0000d299ce46c8375f29f7bb792b9eae</th>\n",
       "      <td>1</td>\n",
       "    </tr>\n",
       "    <tr>\n",
       "      <th>0000fc11407901bcacdfad1db909b9f6</th>\n",
       "      <td>1</td>\n",
       "    </tr>\n",
       "    <tr>\n",
       "      <th>0001c6641864a240eff74544a3596acf</th>\n",
       "      <td>1</td>\n",
       "    </tr>\n",
       "    <tr>\n",
       "      <th>0001f63e9437ebbba6ddaae0664037a7</th>\n",
       "      <td>4</td>\n",
       "    </tr>\n",
       "  </tbody>\n",
       "</table>\n",
       "</div>"
      ],
      "text/plain": [
       "                                  _recipient_acctid\n",
       "_recipient_acctid                                  \n",
       "00002eb25d60a09c318efbd0797bffb5                  1\n",
       "0000d299ce46c8375f29f7bb792b9eae                  1\n",
       "0000fc11407901bcacdfad1db909b9f6                  1\n",
       "0001c6641864a240eff74544a3596acf                  1\n",
       "0001f63e9437ebbba6ddaae0664037a7                  4"
      ]
     },
     "execution_count": 15,
     "metadata": {},
     "output_type": "execute_result"
    }
   ],
   "source": [
    "giftcards_2015_Test.head(5)"
   ]
  },
  {
   "cell_type": "code",
   "execution_count": 22,
   "metadata": {},
   "outputs": [],
   "source": [
    "giftcards_2015_Test=giftcards_2015_Test.rename(columns = {'_recipient_acctid':'Number_of_giftcard_received'})"
   ]
  },
  {
   "cell_type": "code",
   "execution_count": 24,
   "metadata": {},
   "outputs": [
    {
     "data": {
      "text/html": [
       "<div>\n",
       "<style scoped>\n",
       "    .dataframe tbody tr th:only-of-type {\n",
       "        vertical-align: middle;\n",
       "    }\n",
       "\n",
       "    .dataframe tbody tr th {\n",
       "        vertical-align: top;\n",
       "    }\n",
       "\n",
       "    .dataframe thead th {\n",
       "        text-align: right;\n",
       "    }\n",
       "</style>\n",
       "<table border=\"1\" class=\"dataframe\">\n",
       "  <thead>\n",
       "    <tr style=\"text-align: right;\">\n",
       "      <th></th>\n",
       "      <th>_recipient_acctid_Count</th>\n",
       "    </tr>\n",
       "    <tr>\n",
       "      <th>_recipient_acctid</th>\n",
       "      <th></th>\n",
       "    </tr>\n",
       "  </thead>\n",
       "  <tbody>\n",
       "    <tr>\n",
       "      <th>00002eb25d60a09c318efbd0797bffb5</th>\n",
       "      <td>1</td>\n",
       "    </tr>\n",
       "    <tr>\n",
       "      <th>0000d299ce46c8375f29f7bb792b9eae</th>\n",
       "      <td>1</td>\n",
       "    </tr>\n",
       "    <tr>\n",
       "      <th>0000fc11407901bcacdfad1db909b9f6</th>\n",
       "      <td>1</td>\n",
       "    </tr>\n",
       "    <tr>\n",
       "      <th>0001c6641864a240eff74544a3596acf</th>\n",
       "      <td>1</td>\n",
       "    </tr>\n",
       "    <tr>\n",
       "      <th>0001f63e9437ebbba6ddaae0664037a7</th>\n",
       "      <td>4</td>\n",
       "    </tr>\n",
       "  </tbody>\n",
       "</table>\n",
       "</div>"
      ],
      "text/plain": [
       "                                  _recipient_acctid_Count\n",
       "_recipient_acctid                                        \n",
       "00002eb25d60a09c318efbd0797bffb5                        1\n",
       "0000d299ce46c8375f29f7bb792b9eae                        1\n",
       "0000fc11407901bcacdfad1db909b9f6                        1\n",
       "0001c6641864a240eff74544a3596acf                        1\n",
       "0001f63e9437ebbba6ddaae0664037a7                        4"
      ]
     },
     "execution_count": 24,
     "metadata": {},
     "output_type": "execute_result"
    }
   ],
   "source": [
    "giftcards_2015_Test.head(5)"
   ]
  },
  {
   "cell_type": "code",
   "execution_count": 25,
   "metadata": {},
   "outputs": [],
   "source": [
    "giftcards_2015_Test.reset_index(inplace=True)"
   ]
  },
  {
   "cell_type": "code",
   "execution_count": 26,
   "metadata": {},
   "outputs": [
    {
     "data": {
      "text/html": [
       "<div>\n",
       "<style scoped>\n",
       "    .dataframe tbody tr th:only-of-type {\n",
       "        vertical-align: middle;\n",
       "    }\n",
       "\n",
       "    .dataframe tbody tr th {\n",
       "        vertical-align: top;\n",
       "    }\n",
       "\n",
       "    .dataframe thead th {\n",
       "        text-align: right;\n",
       "    }\n",
       "</style>\n",
       "<table border=\"1\" class=\"dataframe\">\n",
       "  <thead>\n",
       "    <tr style=\"text-align: right;\">\n",
       "      <th></th>\n",
       "      <th>_recipient_acctid</th>\n",
       "      <th>_recipient_acctid_Count</th>\n",
       "    </tr>\n",
       "  </thead>\n",
       "  <tbody>\n",
       "    <tr>\n",
       "      <th>0</th>\n",
       "      <td>00002eb25d60a09c318efbd0797bffb5</td>\n",
       "      <td>1</td>\n",
       "    </tr>\n",
       "    <tr>\n",
       "      <th>1</th>\n",
       "      <td>0000d299ce46c8375f29f7bb792b9eae</td>\n",
       "      <td>1</td>\n",
       "    </tr>\n",
       "    <tr>\n",
       "      <th>2</th>\n",
       "      <td>0000fc11407901bcacdfad1db909b9f6</td>\n",
       "      <td>1</td>\n",
       "    </tr>\n",
       "    <tr>\n",
       "      <th>3</th>\n",
       "      <td>0001c6641864a240eff74544a3596acf</td>\n",
       "      <td>1</td>\n",
       "    </tr>\n",
       "    <tr>\n",
       "      <th>4</th>\n",
       "      <td>0001f63e9437ebbba6ddaae0664037a7</td>\n",
       "      <td>4</td>\n",
       "    </tr>\n",
       "  </tbody>\n",
       "</table>\n",
       "</div>"
      ],
      "text/plain": [
       "                  _recipient_acctid  _recipient_acctid_Count\n",
       "0  00002eb25d60a09c318efbd0797bffb5                        1\n",
       "1  0000d299ce46c8375f29f7bb792b9eae                        1\n",
       "2  0000fc11407901bcacdfad1db909b9f6                        1\n",
       "3  0001c6641864a240eff74544a3596acf                        1\n",
       "4  0001f63e9437ebbba6ddaae0664037a7                        4"
      ]
     },
     "execution_count": 26,
     "metadata": {},
     "output_type": "execute_result"
    }
   ],
   "source": [
    "giftcards_2015_Test.head(5)"
   ]
  },
  {
   "cell_type": "code",
   "execution_count": 27,
   "metadata": {},
   "outputs": [],
   "source": [
    "all_recipient_acctid=pd.DataFrame()"
   ]
  },
  {
   "cell_type": "code",
   "execution_count": 28,
   "metadata": {},
   "outputs": [
    {
     "data": {
      "text/html": [
       "<div>\n",
       "<style scoped>\n",
       "    .dataframe tbody tr th:only-of-type {\n",
       "        vertical-align: middle;\n",
       "    }\n",
       "\n",
       "    .dataframe tbody tr th {\n",
       "        vertical-align: top;\n",
       "    }\n",
       "\n",
       "    .dataframe thead th {\n",
       "        text-align: right;\n",
       "    }\n",
       "</style>\n",
       "<table border=\"1\" class=\"dataframe\">\n",
       "  <thead>\n",
       "    <tr style=\"text-align: right;\">\n",
       "      <th></th>\n",
       "    </tr>\n",
       "  </thead>\n",
       "  <tbody>\n",
       "  </tbody>\n",
       "</table>\n",
       "</div>"
      ],
      "text/plain": [
       "Empty DataFrame\n",
       "Columns: []\n",
       "Index: []"
      ]
     },
     "execution_count": 28,
     "metadata": {},
     "output_type": "execute_result"
    }
   ],
   "source": [
    "all_recipient_acctid.head(5)"
   ]
  },
  {
   "cell_type": "code",
   "execution_count": null,
   "metadata": {},
   "outputs": [],
   "source": [
    "\n",
    "\n",
    "\n",
    "\n",
    "\n",
    "\n",
    "\n",
    "all_recipient_acctid[\"_recipient_acctid\"]=(giftcards_2015_Test['_recipient_acctid'].where(giftcards_2015_Test['_recipient_acctid_Count'] == 1))\n",
    "all_recipient_acctid = all_recipient_acctid.dropna(how='any',axis=0) \n",
    "Gift_Merge_=pd.merge(all_recipient_acctid,giftcards_2015, how='left',left_on=['_recipient_acctid'],right_on=['_recipient_acctid'])\n"
   ]
  },
  {
   "cell_type": "code",
   "execution_count": 56,
   "metadata": {},
   "outputs": [
    {
     "name": "stderr",
     "output_type": "stream",
     "text": [
      "C:\\Users\\Nameetha\\Anaconda3\\lib\\site-packages\\pandas\\core\\generic.py:5890: SettingWithCopyWarning: \n",
      "A value is trying to be set on a copy of a slice from a DataFrame\n",
      "\n",
      "See the caveats in the documentation: http://pandas.pydata.org/pandas-docs/stable/indexing.html#indexing-view-versus-copy\n",
      "  self._update_inplace(new_data)\n"
     ]
    }
   ],
   "source": [
    "Total_donations_2015.payment_included_campaign_gift_card.replace(['t', 'f'], [1, 0], inplace=True)\n",
    "Total_donations_2015.payment_included_web_purchased_gift_card.replace(['t', 'f'], [1, 0], inplace=True)\n",
    "Final_Total_donations_2015=pd.DataFrame()\n",
    "Final_Total_donations_2015=Total_donations_2015.loc[ (Total_donations_2015.payment_included_web_purchased_gift_card==1) |\n",
    "                                                    (Total_donations_2015.payment_included_campaign_gift_card==1)]"
   ]
  },
  {
   "cell_type": "code",
   "execution_count": 57,
   "metadata": {},
   "outputs": [],
   "source": [
    "Gift_Donation_Merge=pd.merge(Gift_Merge_,Final_Total_donations_2015, how='inner',left_on=['_recipient_acctid',(Gift_Merge_[\"date_redeemed\"]).astype(str).apply(lambda x:x[0:10])],\n",
    "                     right_on=['_donor_acctid',(Final_Total_donations_2015[\"donation_timestamp\"]).astype(str).apply(lambda x:x[0:10])])\n"
   ]
  },
  {
   "cell_type": "code",
   "execution_count": 6,
   "metadata": {},
   "outputs": [
    {
     "data": {
      "text/plain": [
       "(18201, 44)"
      ]
     },
     "execution_count": 6,
     "metadata": {},
     "output_type": "execute_result"
    }
   ],
   "source": [
    "Gift_Donation_Merge.shape"
   ]
  },
  {
   "cell_type": "code",
   "execution_count": 58,
   "metadata": {},
   "outputs": [],
   "source": [
    "Gift_Donation_Merge.payment_method_y.replace(['no_cash_received', 'promo_code_match', 'creditcard', 'paypal',\n",
    "       'amazon', 'double_your_impact_match', 'check', 'almost_home_match'], [1,0, 0, 0,\n",
    "      0, 0, 0, 0], inplace=True)"
   ]
  },
  {
   "cell_type": "code",
   "execution_count": 59,
   "metadata": {},
   "outputs": [],
   "source": [
    "Gift_Donation_Merge[\"Top_Up\"]= ((Gift_Donation_Merge.payment_included_campaign_gift_card_y==1) |\n",
    "                                                    (Gift_Donation_Merge.payment_included_web_purchased_gift_card_y==1)) & (Gift_Donation_Merge.payment_method_y==0) "
   ]
  },
  {
   "cell_type": "code",
   "execution_count": 61,
   "metadata": {},
   "outputs": [],
   "source": [
    "Gift_Donation_Merge.to_csv('C://Users/Nameetha/Desktop/Stata/Top_UP_2015_For_Logistic_Regression.csv')"
   ]
  },
  {
   "cell_type": "code",
   "execution_count": 1,
   "metadata": {},
   "outputs": [],
   "source": [
    "import pandas  as pd\n",
    "Projects = pd.read_csv(\"C://Users/Nameetha/Desktop/Stata/opendata_projects000.gz\",   escapechar='\\\\', names=['_projectid', '_teacher_acctid', '_schoolid', 'school_ncesid', 'school_latitude', 'school_longitude', 'school_city', 'school_state', 'school_zip', 'school_metro', 'school_district', 'school_county', 'school_charter', 'school_magnet', 'school_year_round', 'school_nlns', 'school_kipp', 'school_charter_ready_promise', 'teacher_prefix', 'teacher_teach_for_america', 'teacher_ny_teaching_fellow', 'primary_focus_subject', 'primary_focus_area' ,'secondary_focus_subject', 'secondary_focus_area', 'resource_type', 'poverty_level', 'grade_level', 'vendor_shipping_charges', 'sales_tax', 'payment_processing_charges', 'fulfillment_labor_materials', 'total_price_excluding_optional_support', 'total_price_including_optional_support', 'students_reached', 'total_donations', 'num_donors', 'eligible_double_your_impact_match', 'eligible_almost_home_match', 'funding_status', 'date_posted', 'date_completed', 'date_thank_you_packet_mailed', 'date_expiration'])\n"
   ]
  },
  {
   "cell_type": "code",
   "execution_count": 2,
   "metadata": {},
   "outputs": [],
   "source": [
    "Projects_2015=Projects[(Projects['date_posted'].apply(lambda x:x[0:4]) == '2015')]"
   ]
  },
  {
   "cell_type": "code",
   "execution_count": 3,
   "metadata": {},
   "outputs": [
    {
     "ename": "NameError",
     "evalue": "name 'Gift_Donation_Merge' is not defined",
     "output_type": "error",
     "traceback": [
      "\u001b[1;31m---------------------------------------------------------------------------\u001b[0m",
      "\u001b[1;31mNameError\u001b[0m                                 Traceback (most recent call last)",
      "\u001b[1;32m<ipython-input-3-0a93e6370c03>\u001b[0m in \u001b[0;36m<module>\u001b[1;34m()\u001b[0m\n\u001b[1;32m----> 1\u001b[1;33m \u001b[0mTopUp_Projects\u001b[0m\u001b[1;33m=\u001b[0m\u001b[0mpd\u001b[0m\u001b[1;33m.\u001b[0m\u001b[0mmerge\u001b[0m\u001b[1;33m(\u001b[0m\u001b[0mGift_Donation_Merge\u001b[0m\u001b[1;33m,\u001b[0m\u001b[0mProjects_2015\u001b[0m\u001b[1;33m,\u001b[0m \u001b[0mhow\u001b[0m\u001b[1;33m=\u001b[0m\u001b[1;34m'inner'\u001b[0m\u001b[1;33m,\u001b[0m\u001b[0mleft_on\u001b[0m\u001b[1;33m=\u001b[0m\u001b[1;33m[\u001b[0m\u001b[1;34m'_projectid'\u001b[0m\u001b[1;33m]\u001b[0m\u001b[1;33m,\u001b[0m\u001b[0mright_on\u001b[0m\u001b[1;33m=\u001b[0m\u001b[1;33m[\u001b[0m\u001b[1;34m'_projectid'\u001b[0m\u001b[1;33m]\u001b[0m\u001b[1;33m)\u001b[0m\u001b[1;33m\u001b[0m\u001b[0m\n\u001b[0m\u001b[0;32m      2\u001b[0m \u001b[0mTopUp_Projects\u001b[0m\u001b[1;33m.\u001b[0m\u001b[0minfo\u001b[0m\u001b[1;33m(\u001b[0m\u001b[1;33m)\u001b[0m\u001b[1;33m\u001b[0m\u001b[0m\n\u001b[0;32m      3\u001b[0m \u001b[0mTopUp_Projects\u001b[0m\u001b[1;33m.\u001b[0m\u001b[0mto_csv\u001b[0m\u001b[1;33m(\u001b[0m\u001b[1;34m'C://Users/Nameetha/Desktop/Stata/TopUp_Projects.csv'\u001b[0m\u001b[1;33m)\u001b[0m\u001b[1;33m\u001b[0m\u001b[0m\n",
      "\u001b[1;31mNameError\u001b[0m: name 'Gift_Donation_Merge' is not defined"
     ]
    }
   ],
   "source": [
    "TopUp_Projects=pd.merge(Gift_Donation_Merge,Projects_2015, how='inner',left_on=['_projectid'],right_on=['_projectid'])\n",
    "TopUp_Projects.info()\n",
    "TopUp_Projects.to_csv('C://Users/Nameetha/Desktop/Stata/TopUp_Projects.csv')"
   ]
  },
  {
   "cell_type": "code",
   "execution_count": null,
   "metadata": {},
   "outputs": [],
   "source": []
  }
 ],
 "metadata": {
  "kernelspec": {
   "display_name": "Python 3",
   "language": "python",
   "name": "python3"
  },
  "language_info": {
   "codemirror_mode": {
    "name": "ipython",
    "version": 3
   },
   "file_extension": ".py",
   "mimetype": "text/x-python",
   "name": "python",
   "nbconvert_exporter": "python",
   "pygments_lexer": "ipython3",
   "version": "3.6.4"
  }
 },
 "nbformat": 4,
 "nbformat_minor": 2
}
